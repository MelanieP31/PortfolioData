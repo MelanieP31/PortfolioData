{
 "cells": [
  {
   "cell_type": "markdown",
   "id": "5b552c0e",
   "metadata": {},
   "source": [
    "<h1 align=\"center\">Youtube data construction</h1>\n",
    "<h2 align=center> What did I watch on youtube ? </h2>\n",
    "<br>\n",
    "<center>The purpose of this script is to create differents dataframe containing informations about my youtube watch history.</center>\n",
    "<center>A second notebook will be used to analyse this data.</center>"
   ]
  },
  {
   "cell_type": "markdown",
   "id": "256899ef",
   "metadata": {},
   "source": [
    "The purpose here is to : \n",
    "* fetch and clean the download my-youtube-watch-history received from google service, \n",
    "* web scraping of video details and channel infos from the Youtube API. "
   ]
  },
  {
   "cell_type": "code",
   "execution_count": null,
   "id": "e6a73820",
   "metadata": {},
   "outputs": [],
   "source": [
    "import pandas as pd\n",
    "from googleapiclient.discovery import build"
   ]
  },
  {
   "cell_type": "markdown",
   "id": "813b1de8",
   "metadata": {
    "jp-MarkdownHeadingCollapsed": true,
    "tags": []
   },
   "source": [
    "<h2 align=\"center\">Load Raw Data</h2>"
   ]
  },
  {
   "cell_type": "code",
   "execution_count": null,
   "id": "0ef5fe9a",
   "metadata": {},
   "outputs": [],
   "source": [
    "raw_data = pd.read_json('watch-history.json')\n",
    "raw_data.to_excel('raw_data.xlsx')"
   ]
  },
  {
   "cell_type": "markdown",
   "id": "514916fd",
   "metadata": {
    "jp-MarkdownHeadingCollapsed": true,
    "tags": []
   },
   "source": [
    "<h2 align=\"center\">Cleaning and processing watch history data</h2>"
   ]
  },
  {
   "cell_type": "code",
   "execution_count": null,
   "id": "3ea7a88a-9751-4977-a782-25ac668c2ad4",
   "metadata": {},
   "outputs": [],
   "source": [
    "def clean_watch_history(data): \n",
    "    \"\"\"\n",
    "    Cleans the raw watch history.\n",
    "    Parameters : data (DataFrame): The raw watch history data.\n",
    "    Returns : DataFrame : Cleaned watch history data.\n",
    "    \"\"\"\n",
    "    wt = data.copy()\n",
    "    wt = wt.drop(['header','products','activityControls','description'],axis=1) \n",
    "    wt['title'] = wt['title'].str.replace('Vous avez regardé ','')\n",
    "    wt['video_ID'] = wt['titleUrl'].str.split('=').str[1]\n",
    "    wt['time'] = wt['time'].str.replace('T',' ').str.split('.').str[0]\n",
    "    wt['time'] = wt['time'].str.replace('Z','')\n",
    "    wt['time'] = pd.to_datetime(wt['time'])\n",
    "    \n",
    "    return wt"
   ]
  },
  {
   "cell_type": "code",
   "execution_count": null,
   "id": "f5e873f2",
   "metadata": {},
   "outputs": [],
   "source": [
    "# Clean watch history\n",
    "wt= clean_watch_history(raw_data)"
   ]
  },
  {
   "cell_type": "code",
   "execution_count": null,
   "id": "0317d7e7-7f4a-427b-a664-530c938e90c5",
   "metadata": {},
   "outputs": [],
   "source": [
    "wt.head(5)"
   ]
  },
  {
   "cell_type": "markdown",
   "id": "1a5b00b1",
   "metadata": {
    "tags": []
   },
   "source": [
    "<h3>Filter the advertisement in a different dataframe</h3>\n",
    "\n",
    "* Dataframe tableau_pub : only Google advertisement\n",
    "* Dataframe working_table (wt) : extract the advertisement"
   ]
  },
  {
   "cell_type": "code",
   "execution_count": null,
   "id": "68638cc2",
   "metadata": {},
   "outputs": [],
   "source": [
    "adversiting_data = wt[wt['subtitles'].isnull()&wt['details'].notnull()]\n",
    "adversiting_data = adversiting_data.drop(['video_ID'],axis=1)\n",
    "adversiting_data.head(3)"
   ]
  },
  {
   "cell_type": "code",
   "execution_count": null,
   "id": "d7e819de",
   "metadata": {},
   "outputs": [],
   "source": [
    "wt = wt[wt['subtitles'].notnull()]\n",
    "wt = wt.drop(['details'],axis=1)\n",
    "wt.head(5)"
   ]
  },
  {
   "cell_type": "markdown",
   "id": "06ea01f2",
   "metadata": {
    "tags": []
   },
   "source": [
    "<h3> Extract Channel Information </h3>"
   ]
  },
  {
   "cell_type": "code",
   "execution_count": null,
   "id": "7c15288a-7d5b-4b78-99a4-b65850f81c77",
   "metadata": {},
   "outputs": [],
   "source": [
    "def extract_video_channel_info(data):\n",
    "    \"\"\"\n",
    "    Extract channel information from the subtitles columns to fetch the channel name and the url.\n",
    "    Parameters : data (DataFrame) : The cleaned watch history data.\n",
    "    Returns : DataFrame : Data with usuable channel name,url and ID.\n",
    "    \"\"\"\n",
    "    author = []\n",
    "    channel_url = []\n",
    "    for element in wt['subtitles']:\n",
    "        author.append(element[0][\"name\"])\n",
    "        channel_url.append(element[0][\"url\"])\n",
    "    wt['creator']=author\n",
    "    wt['channel_url']=channel_url\n",
    "    wt['channel_id']= wt['channel_url'].str.replace('https://www.youtube.com/channel/','')\n",
    "    wt = wt.drop(['subtitles'],axis=1)\n",
    "    wt.index=range(len(wt))\n",
    "    \n",
    "    return data"
   ]
  },
  {
   "cell_type": "code",
   "execution_count": null,
   "id": "baa334eb",
   "metadata": {},
   "outputs": [],
   "source": [
    "wt = extract_video_channel_info(data)\n",
    "wt.head(3)"
   ]
  },
  {
   "cell_type": "markdown",
   "id": "c9bf7bda",
   "metadata": {
    "jp-MarkdownHeadingCollapsed": true,
    "tags": []
   },
   "source": [
    "<h2 align=center> Recuperation channels data from Youtube API </h2>"
   ]
  },
  {
   "cell_type": "markdown",
   "id": "4343e981",
   "metadata": {},
   "source": [
    "* identification channels where I watched more than 10 videos\n",
    "* convert there channel_id to a list\n",
    "* pass the list to the youtube API and scrap their data"
   ]
  },
  {
   "cell_type": "code",
   "execution_count": null,
   "id": "3b253c65",
   "metadata": {},
   "outputs": [],
   "source": [
    "#Initialize Youtube API\n",
    "api_key ='***'\n",
    "youtube= build('youtube', 'v3', developerKey=api_key)"
   ]
  },
  {
   "cell_type": "code",
   "execution_count": null,
   "id": "aa24d86e",
   "metadata": {},
   "outputs": [],
   "source": [
    "def get_channel_stats(youtube, channel_ids):\n",
    "    \"\"\"\n",
    "    Fetches channel statistics from Youtube API.\n",
    "    Parameters : \n",
    "        youtube : The Youtube API ressource object\n",
    "        channel_ids (list) : List of channel IDs.\n",
    "    Returns : List : List of dictionaries containing channel statistics.\n",
    "    \n",
    "    \"\"\"\n",
    "    all_data = []\n",
    "    \n",
    "    for i in range(0,len(channel_ids),50):                  \n",
    "        request = youtube.channels().list(\n",
    "            part=\"snippet,contentDetails,statistics,id\",\n",
    "            id = ','.join(channel_ids[i:i+50]))\n",
    "        response = request.execute()\n",
    "\n",
    "        for i in range(len(response['items'])):\n",
    "            data =dict(Channel_name = response['items'][i]['snippet']['title'],\n",
    "                       channel_id = response['items'][i]['id'], \n",
    "                       Channel_date = response['items'][i]['snippet']['publishedAt'],\n",
    "                       Subscribers = response['items'][i]['statistics']['subscriberCount'],\n",
    "                       Views = response['items'][i]['statistics']['viewCount'],\n",
    "                       country = response['items'][i]['snippet'].get('country'),\n",
    "                       Total_videos = response['items'][i]['statistics']['videoCount'])\n",
    "                       \n",
    "            all_data.append(data)\n",
    "    \n",
    "    return all_data"
   ]
  },
  {
   "cell_type": "code",
   "execution_count": null,
   "id": "7cbc025a",
   "metadata": {},
   "outputs": [],
   "source": [
    "# Get channels with more than 10 videos watched\n",
    "channel_counts = wt.channel_id.value_counts()\n",
    "channel_counts = channel_counts[channel_counts > 10]\n",
    "channel_ids = channel_scraping['channel_id'].tolist()"
   ]
  },
  {
   "cell_type": "code",
   "execution_count": null,
   "id": "ec8ab254",
   "metadata": {},
   "outputs": [],
   "source": [
    "# Fetch channel statistics\n",
    "channel_statitics = get_channel_stats(youtube, channel_ids)\n",
    "channel_data = pd.DataFrame(channel_statitics)"
   ]
  },
  {
   "cell_type": "code",
   "execution_count": null,
   "id": "1013f576",
   "metadata": {},
   "outputs": [],
   "source": [
    "# Merge channel statistics with watch count data\n",
    "channel_counts = pd.DataFrame(data=channel_counts).reset_index()\n",
    "data_channel = pd.merge(channel_data, channel_counts, how='inner',on='channel_id')\n",
    "data_channel = data_channel.sort_values('count',ascending=False)\n",
    "data_channel"
   ]
  },
  {
   "cell_type": "code",
   "execution_count": null,
   "id": "ae1e5cc5",
   "metadata": {},
   "outputs": [],
   "source": [
    "# cleanning datatype : numeric\n",
    "numeric_cols = ['Subscribers','Views','Total_videos']\n",
    "data_channel[numeric_cols] = data_channel[numeric_cols].apply(pd.to_numeric, errors='coerce')\n",
    "\n",
    "#cleaning datatype: datetime\n",
    "data_channel['Channel_date'] = data_channel['Channel_date'].str.replace('T',' ').str.split('.').str[0]\n",
    "data_channel['Channel_date'] = data_channel['Channel_date'].str.replace('Z','')\n",
    "data_channel['Channel_date'] = pd.to_datetime(data_channel['Channel_date'])\n",
    "\n",
    "\n",
    "#result\n",
    "data_channel.dtypes"
   ]
  },
  {
   "cell_type": "code",
   "execution_count": null,
   "id": "8a1ea342",
   "metadata": {},
   "outputs": [],
   "source": [
    "data_channel.head(3)"
   ]
  },
  {
   "cell_type": "markdown",
   "id": "221554b4",
   "metadata": {
    "jp-MarkdownHeadingCollapsed": true,
    "tags": []
   },
   "source": [
    "<h2 align = center> Recuperation datas from all my videos history </h2>"
   ]
  },
  {
   "cell_type": "markdown",
   "id": "0d5f2b2b-0d54-4eff-be95-638a26c4ab69",
   "metadata": {
    "jp-MarkdownHeadingCollapsed": true,
    "tags": []
   },
   "source": [
    "### Recuperation data youtube's API"
   ]
  },
  {
   "cell_type": "code",
   "execution_count": null,
   "id": "397c5dcc",
   "metadata": {},
   "outputs": [],
   "source": [
    "def get_video_details(youtube, video_ids):\n",
    "    \"\"\"\n",
    "    Fetches video details from youtube API\n",
    "    Parameters : \n",
    "        youtube : The youtube API resource object.\n",
    "        video_ids (list) : List of video IDs.\n",
    "    Returns : List of dictionaries containing video details.   \n",
    "    \"\"\"\n",
    "    all_videos_stats = []\n",
    "    \n",
    "    for i in range(0, len(video_ids), 50):\n",
    "        request = youtube.videos().list(\n",
    "            part = 'snippet, statistics',\n",
    "            id=','.join(video_ids[i:i+50]))\n",
    "        response = request.execute()\n",
    "\n",
    "        for video in response['items']:\n",
    "            video_stats = dict(title = video['snippet']['title'],\n",
    "                                Published_date = video['snippet']['publishedAt'],\n",
    "                                Views = video['statistics'].get('viewCount'),\n",
    "                                Like = video['statistics'].get('likeCount'),\n",
    "                                Comments = video['statistics'].get('commentCount'),\n",
    "                                Videocategory = video['snippet']['categoryId']\n",
    "                              )\n",
    "            all_videos_stats.append(video_stats)\n",
    "\n",
    "    return all_videos_stats"
   ]
  },
  {
   "cell_type": "code",
   "execution_count": null,
   "id": "1b4508b9",
   "metadata": {},
   "outputs": [],
   "source": [
    "# Number of videos\n",
    "count_video = wt.video_ID.value_counts()\n",
    "len(count_video)"
   ]
  },
  {
   "cell_type": "code",
   "execution_count": null,
   "id": "d9350289-5cbf-4e69-a27c-894bcd73582c",
   "metadata": {},
   "outputs": [],
   "source": [
    "# Get video details\n",
    "video_ids = video_scraping['video_ID'].tolist()\n",
    "video_statitics = get_video_details(youtube, video_ids)\n",
    "video_data = pd.DataFrame(video_statitics)"
   ]
  },
  {
   "cell_type": "code",
   "execution_count": null,
   "id": "5cb50d47-cc44-4662-8596-07b8e84af7d0",
   "metadata": {},
   "outputs": [],
   "source": [
    "# Merge video statistics with watch history\n",
    "data_video = pd.merge(video_data, wt, how='inner',on='title')\n",
    "data_video.info()"
   ]
  },
  {
   "cell_type": "code",
   "execution_count": null,
   "id": "2dd606bf",
   "metadata": {},
   "outputs": [],
   "source": [
    "data_video.head(3)"
   ]
  },
  {
   "cell_type": "markdown",
   "id": "9e7e2fe3-93c7-40a8-a111-80d895451ee9",
   "metadata": {
    "jp-MarkdownHeadingCollapsed": true,
    "tags": []
   },
   "source": [
    "### formating dataframe"
   ]
  },
  {
   "cell_type": "code",
   "execution_count": null,
   "id": "f6cfd38a",
   "metadata": {},
   "outputs": [],
   "source": [
    "# cleanning datatype : numeric\n",
    "numeric_cols = ['Views','Like','Comments']\n",
    "data_video[numeric_cols] = data_video[numeric_cols].apply(pd.to_numeric, errors='coerce')\n",
    "\n",
    "#cleaning datatype: datetime\n",
    "data_video['Published_date'] = data_video['Published_date'].str.split('T').str[0]\n",
    "data_video['Published_date'] = pd.to_datetime(data_video['Published_date'])\n",
    "\n",
    "#result\n",
    "data_video.dtypes"
   ]
  },
  {
   "cell_type": "code",
   "execution_count": null,
   "id": "fdf6e862",
   "metadata": {},
   "outputs": [],
   "source": [
    "data_video.Videocategory.value_counts()"
   ]
  },
  {
   "cell_type": "code",
   "execution_count": null,
   "id": "5d20445c",
   "metadata": {},
   "outputs": [],
   "source": [
    "# Map video categories\n",
    "my_categories = {'10':'Music','24':'Entertainment','22':'People&Blog','23':'Comedy','20':'Gaming','27':'Education',\n",
    "                 '1':'Film&Animation','26':'HowTo&Style','28':'Science&Technology','25':'News&Politics','17':'Sports',\n",
    "                '19':'Travel&Events','15':'Pets&Animal','2':'Autos','29':'NonProfits&Activism','44':'Trailers'}\n",
    "data_video['Videocategory'] = data_video['Videocategory'].map(my_categories)"
   ]
  },
  {
   "cell_type": "code",
   "execution_count": null,
   "id": "7322b28a-653d-436e-82ce-dfc3da8a5726",
   "metadata": {
    "tags": []
   },
   "outputs": [],
   "source": [
    "data_video.Videocategory.value_counts()"
   ]
  },
  {
   "cell_type": "markdown",
   "id": "d86ae1be-5453-4f22-b7ce-8c89a06d062a",
   "metadata": {
    "jp-MarkdownHeadingCollapsed": true,
    "tags": []
   },
   "source": [
    "<h2 align = center> Filter from 2018 to 2023 </h2>"
   ]
  },
  {
   "cell_type": "code",
   "execution_count": null,
   "id": "48e66188-cd5f-4ac0-8116-4f3890f90b06",
   "metadata": {
    "tags": []
   },
   "outputs": [],
   "source": [
    "data_video.info()"
   ]
  },
  {
   "cell_type": "code",
   "execution_count": null,
   "id": "719831a5-ca31-4a57-9be9-7b6594872486",
   "metadata": {
    "tags": []
   },
   "outputs": [],
   "source": [
    "# Extract year from watch time\n",
    "data_video['year'] = data_video['time'].dt.year\n",
    "\n",
    "nb_video_2017 = len(data_video[(data_video['year']<=2017)])\n",
    "nb_video_2018 = len(data_video[(data_video['year']>2017)])\n",
    "\n",
    "print(f'nb videos 2012 to 2017 : {nb_video_2017}')\n",
    "print(f'nb videos 2018 to 2024 : {nb_video_2018}')"
   ]
  },
  {
   "cell_type": "code",
   "execution_count": null,
   "id": "fc98b7f2-00f1-4ea0-8b09-e4d028743abb",
   "metadata": {
    "tags": []
   },
   "outputs": [],
   "source": [
    "# Filter videos by year\n",
    "data_video_2018 = data_video[(data_video['year']>2017) & (data_video['year']<2024)]\n",
    "data_video_2018.groupby('year').size()"
   ]
  },
  {
   "cell_type": "markdown",
   "id": "a842c3ba-95e7-4f27-b7cf-2ca2e739139f",
   "metadata": {
    "jp-MarkdownHeadingCollapsed": true,
    "tags": []
   },
   "source": [
    "<h2 align = center> Add the lenght of the videos </h2>"
   ]
  },
  {
   "cell_type": "code",
   "execution_count": null,
   "id": "66f9498d-7e15-415e-a3fe-8c0fbdec4051",
   "metadata": {},
   "outputs": [],
   "source": [
    "# Export intermediate data for manual duration input (irrécupérable via API ou Selene) +suppr videos, watch only the begining ... \n",
    "df_video_id= pd.DataFrame(data_video_2018[['title','titleUrl','video_ID','year']])\n",
    "df_video_id.to_excel('vd_id_time.xlsx', index=False)"
   ]
  },
  {
   "cell_type": "code",
   "execution_count": null,
   "id": "3a81cf02-6cdc-4018-aa33-5c5aa8ee1175",
   "metadata": {
    "tags": []
   },
   "outputs": [],
   "source": [
    "# Load manually input duration data\n",
    "df_duration = pd.read_excel('vd_id_time_duration.xlsx').drop([\"Colonne1\"],axis=1)"
   ]
  },
  {
   "cell_type": "code",
   "execution_count": null,
   "id": "690f1374-959c-4e95-9fe1-8d1bb38e9c86",
   "metadata": {
    "tags": []
   },
   "outputs": [],
   "source": [
    "# Merge duration data with video data\n",
    "video_data_final = pd.merge(data_video_2018,df_duration,how='inner',on=['video_ID','title','titleUrl','year'])\n",
    "video_data_final.head(3)"
   ]
  },
  {
   "cell_type": "code",
   "execution_count": null,
   "id": "10594e8e-c4c0-49b7-9a2d-44269ff33846",
   "metadata": {
    "tags": []
   },
   "outputs": [],
   "source": [
    "video_data_final.info()"
   ]
  },
  {
   "cell_type": "markdown",
   "id": "7bba5867-a24b-4e21-9e98-906201b704ae",
   "metadata": {
    "tags": []
   },
   "source": [
    "<h2 align = center> Fill the NULL values </h2>"
   ]
  },
  {
   "cell_type": "code",
   "execution_count": null,
   "id": "b34ae507-74a4-4092-8745-fd8d4e16dd4a",
   "metadata": {
    "tags": []
   },
   "outputs": [],
   "source": [
    "video_data_final.isnull().sum()"
   ]
  },
  {
   "cell_type": "code",
   "execution_count": null,
   "id": "d60d9d4e-0205-4cdb-a868-9bf918ec282f",
   "metadata": {
    "tags": []
   },
   "outputs": [],
   "source": [
    "# corresponds to like=0 or comments=0\n",
    "video_data_final['Like'] = video_data_final['Like'].fillna(0)\n",
    "video_data_final['Comments'] = video_data_final['Comments'].fillna(0)\n",
    "video_data_final.isnull().sum()"
   ]
  },
  {
   "cell_type": "markdown",
   "id": "4e0c9d56",
   "metadata": {},
   "source": [
    "<h2 align='center'> Save Data to Excel </h2>"
   ]
  },
  {
   "cell_type": "code",
   "execution_count": null,
   "id": "f1b061d7",
   "metadata": {},
   "outputs": [],
   "source": [
    "with pd.ExcelWriter (\"youtube_data.xlsx\") as writer :\n",
    "    #wt.to_excel(writer, sheet_name='working_data',index=False)\n",
    "    tableau_pub.to_excel(writer, sheet_name='pub_data', index=False)\n",
    "    data_channel.to_excel(writer, sheet_name='channel_data',index=False)\n",
    "    data_video.to_excel(writer,sheet_name='video_data',index=False)\n",
    "    #data_video_2018.to_excel(writer,sheet_name='video_data_filter_2018',index=False)\n",
    "    video_data_final.to_excel(writer,sheet_name='video_data_complete',index=False)"
   ]
  }
 ],
 "metadata": {
  "kernelspec": {
   "display_name": "Python 3 (ipykernel)",
   "language": "python",
   "name": "python3"
  },
  "language_info": {
   "codemirror_mode": {
    "name": "ipython",
    "version": 3
   },
   "file_extension": ".py",
   "mimetype": "text/x-python",
   "name": "python",
   "nbconvert_exporter": "python",
   "pygments_lexer": "ipython3",
   "version": "3.11.7"
  }
 },
 "nbformat": 4,
 "nbformat_minor": 5
}
