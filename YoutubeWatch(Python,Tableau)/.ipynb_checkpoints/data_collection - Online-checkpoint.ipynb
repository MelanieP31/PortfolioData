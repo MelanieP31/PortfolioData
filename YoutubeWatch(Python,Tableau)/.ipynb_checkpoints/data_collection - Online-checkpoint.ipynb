{
 "cells": [
  {
   "cell_type": "markdown",
   "id": "5b552c0e",
   "metadata": {},
   "source": [
    "<h1 align=\"center\">Youtube data construction</h1>\n",
    "<h2 align=center> What did I watch on youtube ? </h2>\n",
    "<br>\n",
    "<center>The purpose of this script is to create differents dataframe containing informations about my youtube watch history.</center>\n",
    "<center>A second notebook will be used to analyse this data.</center>"
   ]
  },
  {
   "cell_type": "markdown",
   "id": "256899ef",
   "metadata": {},
   "source": [
    "The purpose here is to : \n",
    "* fetch and clean the download my-youtube-watch-history received from google service, \n",
    "* web scraping of video details and channel infos from the Youtube API. "
   ]
  },
  {
   "cell_type": "code",
   "execution_count": null,
   "id": "e6a73820",
   "metadata": {},
   "outputs": [],
   "source": [
    "import pandas as pd\n",
    "from googleapiclient.discovery import build\n",
    "from datetime import time"
   ]
  },
  {
   "cell_type": "markdown",
   "id": "813b1de8",
   "metadata": {},
   "source": [
    "<h2 align=\"center\">Raw Data</h2>"
   ]
  },
  {
   "cell_type": "code",
   "execution_count": null,
   "id": "0ef5fe9a",
   "metadata": {},
   "outputs": [],
   "source": [
    "#file path\n",
    "raw_data = pd.read_json('***/watch-history.json')"
   ]
  },
  {
   "cell_type": "code",
   "execution_count": null,
   "id": "d2a95e58",
   "metadata": {},
   "outputs": [],
   "source": [
    "raw_data.to_excel('raw_data.xlsx')"
   ]
  },
  {
   "cell_type": "markdown",
   "id": "514916fd",
   "metadata": {},
   "source": [
    "<h2 align=\"center\">Cleaning of data</h2>"
   ]
  },
  {
   "cell_type": "markdown",
   "id": "f0f9c93b",
   "metadata": {},
   "source": [
    "<h3> columns cleaning </h3>"
   ]
  },
  {
   "cell_type": "code",
   "execution_count": null,
   "id": "46ac7700",
   "metadata": {},
   "outputs": [],
   "source": [
    "wt = raw_data.copy()\n",
    "wt = wt.drop(['header','products','activityControls','description'],axis=1)"
   ]
  },
  {
   "cell_type": "code",
   "execution_count": null,
   "id": "f5e873f2",
   "metadata": {},
   "outputs": [],
   "source": [
    "wt.head(3)"
   ]
  },
  {
   "cell_type": "markdown",
   "id": "aab15afe",
   "metadata": {},
   "source": [
    "<h3> columns organization </h3>"
   ]
  },
  {
   "cell_type": "code",
   "execution_count": null,
   "id": "6acaf169",
   "metadata": {},
   "outputs": [],
   "source": [
    "#Cleaning Title\n",
    "wt['title'] = wt['title'].str.replace('Vous avez regardé ','')\n",
    "\n",
    "#Fetch video-ID from the url and place it on a different columns\n",
    "wt['video_ID'] = wt['titleUrl'].str.split('=').str[1]\n",
    "\n",
    "#Fetch the date and time in different columns and set them to datetime type\n",
    "wt['time'] = wt['time'].str.replace('T',' ').str.split('.').str[0]\n",
    "wt['time'] = wt['time'].str.replace('Z','')\n",
    "wt['time'] = pd.to_datetime(wt['time'])"
   ]
  },
  {
   "cell_type": "markdown",
   "id": "1a5b00b1",
   "metadata": {},
   "source": [
    "<h3>Filter the advertisement in a different dataframe</h3>\n",
    "\n",
    "* Dataframe tableau_pub : only Google advertisement\n",
    "* Dataframe working_table (wt) : extract the advertisement"
   ]
  },
  {
   "cell_type": "code",
   "execution_count": null,
   "id": "68638cc2",
   "metadata": {},
   "outputs": [],
   "source": [
    "tableau_pub = wt.copy()\n",
    "tableau_pub = wt[wt['subtitles'].isnull()&wt['details'].notnull()]\n",
    "tableau_pub = tableau_pub.drop(['video_ID'],axis=1)\n",
    "tableau_pub.head(3)"
   ]
  },
  {
   "cell_type": "code",
   "execution_count": null,
   "id": "d7e819de",
   "metadata": {},
   "outputs": [],
   "source": [
    "wt = wt[wt['subtitles'].notnull()]\n",
    "wt = wt.drop(['details'],axis=1)\n",
    "wt.head()"
   ]
  },
  {
   "cell_type": "markdown",
   "id": "06ea01f2",
   "metadata": {},
   "source": [
    "<h3> Fetch data from the subtitles columns </h3>"
   ]
  },
  {
   "cell_type": "code",
   "execution_count": null,
   "id": "1339b2fa",
   "metadata": {},
   "outputs": [],
   "source": [
    "author = []\n",
    "channel_url = []\n",
    "for element in wt['subtitles']:\n",
    "    author.append(element[0][\"name\"])\n",
    "    channel_url.append(element[0][\"url\"])\n",
    "wt['creator']=author\n",
    "wt['channel_url']=channel_url"
   ]
  },
  {
   "cell_type": "code",
   "execution_count": null,
   "id": "baa334eb",
   "metadata": {},
   "outputs": [],
   "source": [
    "wt.head(3)"
   ]
  },
  {
   "cell_type": "markdown",
   "id": "2583917b",
   "metadata": {},
   "source": [
    "<h3> Index reset </h3>"
   ]
  },
  {
   "cell_type": "code",
   "execution_count": null,
   "id": "e56e778c",
   "metadata": {},
   "outputs": [],
   "source": [
    "wt.index=range(len(wt))\n",
    "wt = wt.drop(['subtitles'],axis=1)\n",
    "wt.head(3)"
   ]
  },
  {
   "cell_type": "markdown",
   "id": "1f9b3fb2",
   "metadata": {},
   "source": [
    "<h3>Fetch channel_id from the channel_url </h3>"
   ]
  },
  {
   "cell_type": "code",
   "execution_count": null,
   "id": "3dac54e2",
   "metadata": {},
   "outputs": [],
   "source": [
    "wt['channel_id']= wt['channel_url'].str.replace('https://www.youtube.com/channel/','')\n",
    "wt.head(3)"
   ]
  },
  {
   "cell_type": "markdown",
   "id": "c9bf7bda",
   "metadata": {},
   "source": [
    "<h2 align=center> Recuperation channels data from Youtube API </h2>"
   ]
  },
  {
   "cell_type": "markdown",
   "id": "4343e981",
   "metadata": {},
   "source": [
    "* identification channels where I watched more than 10 videos\n",
    "* convert there channel_id to a list\n",
    "* pass the list to the youtube API and scrap their data"
   ]
  },
  {
   "cell_type": "code",
   "execution_count": null,
   "id": "7cbc025a",
   "metadata": {},
   "outputs": [],
   "source": [
    "count = wt.channel_id.value_counts()\n",
    "count = count[count > 10]\n",
    "len(count)"
   ]
  },
  {
   "cell_type": "code",
   "execution_count": null,
   "id": "5d6ee26c",
   "metadata": {},
   "outputs": [],
   "source": [
    "channel_scraping = pd.DataFrame(data=count)\n",
    "channel_scraping = channel_scraping.reset_index()"
   ]
  },
  {
   "cell_type": "code",
   "execution_count": null,
   "id": "3b253c65",
   "metadata": {},
   "outputs": [],
   "source": [
    "#put your api key '****'\n",
    "api_key ='****'\n",
    "youtube= build('youtube', 'v3', developerKey=api_key)"
   ]
  },
  {
   "cell_type": "code",
   "execution_count": null,
   "id": "b57d2005",
   "metadata": {},
   "outputs": [],
   "source": [
    "channel_ids = channel_scraping['channel_id'].tolist()"
   ]
  },
  {
   "cell_type": "code",
   "execution_count": null,
   "id": "aa24d86e",
   "metadata": {},
   "outputs": [],
   "source": [
    "def get_channel_stats(youtube, channel_ids):\n",
    "    all_data = []\n",
    "    \n",
    "    for i in range(0,len(channel_ids),50):                  \n",
    "        request = youtube.channels().list(\n",
    "            part=\"snippet,contentDetails,statistics,id\",\n",
    "            id = ','.join(channel_ids[i:i+50]))\n",
    "        response = request.execute()\n",
    "\n",
    "        for i in range(len(response['items'])):\n",
    "            data =dict(Channel_name = response['items'][i]['snippet']['title'],\n",
    "                       channel_id = response['items'][i]['id'], \n",
    "                       Channel_date = response['items'][i]['snippet']['publishedAt'],\n",
    "                       Subscribers = response['items'][i]['statistics']['subscriberCount'],\n",
    "                       Views = response['items'][i]['statistics']['viewCount'],\n",
    "                       country = response['items'][i]['snippet'].get('country'),\n",
    "                       Total_videos = response['items'][i]['statistics']['videoCount'])        \n",
    "            all_data.append(data)\n",
    "    \n",
    "    return all_data"
   ]
  },
  {
   "cell_type": "code",
   "execution_count": null,
   "id": "ec8ab254",
   "metadata": {},
   "outputs": [],
   "source": [
    "channel_statitics = get_channel_stats(youtube, channel_ids)\n",
    "channel_data = pd.DataFrame(channel_statitics)"
   ]
  },
  {
   "cell_type": "code",
   "execution_count": null,
   "id": "1013f576",
   "metadata": {},
   "outputs": [],
   "source": [
    "data_channel = pd.merge(channel_data, channel_scraping, how='inner',on='channel_id')\n",
    "data_channel = data_channel.sort_values('count',ascending=False)\n",
    "data_channel"
   ]
  },
  {
   "cell_type": "code",
   "execution_count": null,
   "id": "ae1e5cc5",
   "metadata": {},
   "outputs": [],
   "source": [
    "# cleanning datatype : numeric\n",
    "numeric_cols = ['Subscribers','Views','Total_videos']\n",
    "data_channel[numeric_cols] = data_channel[numeric_cols].apply(pd.to_numeric, errors='coerce')\n",
    "\n",
    "#cleaning datatype: datetime\n",
    "data_channel['Channel_date'] = data_channel['Channel_date'].str.replace('T',' ').str.split('.').str[0]\n",
    "data_channel['Channel_date'] = data_channel['Channel_date'].str.replace('Z','')\n",
    "data_channel['Channel_date'] = pd.to_datetime(data_channel['Channel_date'])\n",
    "\n",
    "#result\n",
    "data_channel.dtypes"
   ]
  },
  {
   "cell_type": "code",
   "execution_count": null,
   "id": "8a1ea342",
   "metadata": {},
   "outputs": [],
   "source": [
    "data_channel.head(3)"
   ]
  },
  {
   "cell_type": "markdown",
   "id": "221554b4",
   "metadata": {},
   "source": [
    "<h2 align = center> Recuperation datas from all my videos history </h2>"
   ]
  },
  {
   "cell_type": "code",
   "execution_count": null,
   "id": "1b4508b9",
   "metadata": {},
   "outputs": [],
   "source": [
    "count_video = wt.video_ID.value_counts()\n",
    "len(count_video)"
   ]
  },
  {
   "cell_type": "code",
   "execution_count": null,
   "id": "2dd606bf",
   "metadata": {},
   "outputs": [],
   "source": [
    "video_scraping = pd.DataFrame(data=count_video)\n",
    "video_scraping = video_scraping.reset_index()\n",
    "video_scraping.head(3)"
   ]
  },
  {
   "cell_type": "code",
   "execution_count": null,
   "id": "0314f0f7",
   "metadata": {},
   "outputs": [],
   "source": [
    "video_ids = video_scraping['video_ID'].tolist()"
   ]
  },
  {
   "cell_type": "code",
   "execution_count": null,
   "id": "397c5dcc",
   "metadata": {},
   "outputs": [],
   "source": [
    "def get_video_details(youtube, video_ids):\n",
    "    all_videos_stats = []\n",
    "    \n",
    "    for i in range(0, len(video_ids), 50):\n",
    "        request = youtube.videos().list(\n",
    "            part = 'snippet, statistics',\n",
    "            id=','.join(video_ids[i:i+50]))\n",
    "        response = request.execute()\n",
    "\n",
    "        for video in response['items']:\n",
    "            video_stats = dict(title = video['snippet']['title'],\n",
    "                                Published_date = video['snippet']['publishedAt'],\n",
    "                                Views = video['statistics'].get('viewCount'),\n",
    "                                Like = video['statistics'].get('likeCount'),\n",
    "                                Comments = video['statistics'].get('commentCount'),\n",
    "                                Videocategory = video['snippet']['categoryId']\n",
    "                              )\n",
    "            all_videos_stats.append(video_stats)\n",
    "\n",
    "    return all_videos_stats"
   ]
  },
  {
   "cell_type": "code",
   "execution_count": null,
   "id": "8908c203",
   "metadata": {},
   "outputs": [],
   "source": [
    "video_statitics = get_video_details(youtube, video_ids)\n",
    "video_data = pd.DataFrame(video_statitics)\n",
    "video_data.head(3)"
   ]
  },
  {
   "cell_type": "code",
   "execution_count": null,
   "id": "afdae547",
   "metadata": {},
   "outputs": [],
   "source": [
    "data_video = pd.merge(video_data, wt, how='inner',on='title')\n",
    "data_video.info()"
   ]
  },
  {
   "cell_type": "code",
   "execution_count": null,
   "id": "f6cfd38a",
   "metadata": {},
   "outputs": [],
   "source": [
    "# cleanning datatype : numeric\n",
    "numeric_cols = ['Views','Like','Comments']\n",
    "data_video[numeric_cols] = data_video[numeric_cols].apply(pd.to_numeric, errors='coerce')\n",
    "\n",
    "#cleaning datatype: datetime\n",
    "data_video['Published_date'] = data_video['Published_date'].str.split('T').str[0]\n",
    "data_video['Published_date'] = pd.to_datetime(data_video['Published_date'])\n",
    "\n",
    "#result\n",
    "data_video.dtypes"
   ]
  },
  {
   "cell_type": "code",
   "execution_count": null,
   "id": "fdf6e862",
   "metadata": {},
   "outputs": [],
   "source": [
    "data_video.Videocategory.value_counts()"
   ]
  },
  {
   "cell_type": "code",
   "execution_count": null,
   "id": "5d20445c",
   "metadata": {},
   "outputs": [],
   "source": [
    "my_categories = {'10':'Music','24':'Entertainment','22':'People&Blog','23':'Comedy','20':'Gaming','27':'Education',\n",
    "                 '1':'Film&Animation','26':'HowTo&Style','28':'Science&Technology','25':'News&Politics','17':'Sports',\n",
    "                '19':'Travel&Events','15':'Pets&Animal','2':'Autos','29':'NonProfits&Activism','44':'Trailers'}"
   ]
  },
  {
   "cell_type": "code",
   "execution_count": null,
   "id": "52f264b0",
   "metadata": {},
   "outputs": [],
   "source": [
    "data_video['Videocategory'] = data_video['Videocategory'].map(my_categories)"
   ]
  },
  {
   "cell_type": "markdown",
   "id": "4e0c9d56",
   "metadata": {},
   "source": [
    "<h2 align='center'> Save Data to Excel </h2>"
   ]
  },
  {
   "cell_type": "code",
   "execution_count": null,
   "id": "f1b061d7",
   "metadata": {},
   "outputs": [],
   "source": [
    "with pd.ExcelWriter (\"youtube_data.xlsx\") as writer :\n",
    "    wt.to_excel(writer, sheet_name='working_data',index=False)\n",
    "    tableau_pub.to_excel(writer, sheet_name='pub_data', index=False)\n",
    "    data_channel.to_excel(writer, sheet_name='channel_data',index=False)\n",
    "    data_video.to_excel(writer,sheet_name='video_data',index=False)"
   ]
  }
 ],
 "metadata": {
  "kernelspec": {
   "display_name": "Python 3 (ipykernel)",
   "language": "python",
   "name": "python3"
  },
  "language_info": {
   "codemirror_mode": {
    "name": "ipython",
    "version": 3
   },
   "file_extension": ".py",
   "mimetype": "text/x-python",
   "name": "python",
   "nbconvert_exporter": "python",
   "pygments_lexer": "ipython3",
   "version": "3.11.7"
  }
 },
 "nbformat": 4,
 "nbformat_minor": 5
}
