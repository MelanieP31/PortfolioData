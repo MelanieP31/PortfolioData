{
 "cells": [
  {
   "cell_type": "markdown",
   "id": "5b552c0e",
   "metadata": {},
   "source": [
    "<h1 align=\"center\">Youtube data construction</h1>\n",
    "<h2 align=center> What did I watch on youtube ? </h2>\n",
    "<br>\n",
    "<center>The purpose of this script is to create differents dataframe containing informations about my youtube watch history.</center>\n",
    "<center>A second notebook will be used to analyse this data.</center>"
   ]
  },
  {
   "cell_type": "markdown",
   "id": "256899ef",
   "metadata": {},
   "source": [
    "The purpose here is to : \n",
    "* fetch and clean the download my-youtube-watch-history received from google service, \n",
    "* web scraping of video details and channel infos from the Youtube API. "
   ]
  },
  {
   "cell_type": "code",
   "execution_count": 13,
   "id": "e6a73820",
   "metadata": {},
   "outputs": [],
   "source": [
    "import pandas as pd\n",
    "from googleapiclient.discovery import build"
   ]
  },
  {
   "cell_type": "markdown",
   "id": "813b1de8",
   "metadata": {
    "jp-MarkdownHeadingCollapsed": true,
    "tags": []
   },
   "source": [
    "<h2 align=\"center\">Raw Data</h2>"
   ]
  },
  {
   "cell_type": "code",
   "execution_count": 15,
   "id": "0ef5fe9a",
   "metadata": {},
   "outputs": [],
   "source": [
    "raw_data = pd.read_json('watch-history.json')"
   ]
  },
  {
   "cell_type": "code",
   "execution_count": 17,
   "id": "d2a95e58",
   "metadata": {},
   "outputs": [],
   "source": [
    "raw_data.to_excel('raw_data.xlsx')"
   ]
  },
  {
   "cell_type": "markdown",
   "id": "514916fd",
   "metadata": {
    "tags": []
   },
   "source": [
    "<h2 align=\"center\">Cleaning of data</h2>"
   ]
  },
  {
   "cell_type": "markdown",
   "id": "f0f9c93b",
   "metadata": {
    "jp-MarkdownHeadingCollapsed": true,
    "tags": []
   },
   "source": [
    "<h3> columns cleaning </h3>"
   ]
  },
  {
   "cell_type": "code",
   "execution_count": 19,
   "id": "46ac7700",
   "metadata": {},
   "outputs": [],
   "source": [
    "wt = raw_data.copy()\n",
    "wt = wt.drop(['header','products','activityControls','description'],axis=1)"
   ]
  },
  {
   "cell_type": "code",
   "execution_count": 21,
   "id": "f5e873f2",
   "metadata": {},
   "outputs": [
    {
     "data": {
      "text/html": [
       "<div>\n",
       "<style scoped>\n",
       "    .dataframe tbody tr th:only-of-type {\n",
       "        vertical-align: middle;\n",
       "    }\n",
       "\n",
       "    .dataframe tbody tr th {\n",
       "        vertical-align: top;\n",
       "    }\n",
       "\n",
       "    .dataframe thead th {\n",
       "        text-align: right;\n",
       "    }\n",
       "</style>\n",
       "<table border=\"1\" class=\"dataframe\">\n",
       "  <thead>\n",
       "    <tr style=\"text-align: right;\">\n",
       "      <th></th>\n",
       "      <th>title</th>\n",
       "      <th>titleUrl</th>\n",
       "      <th>subtitles</th>\n",
       "      <th>time</th>\n",
       "      <th>details</th>\n",
       "    </tr>\n",
       "  </thead>\n",
       "  <tbody>\n",
       "    <tr>\n",
       "      <th>0</th>\n",
       "      <td>Vous avez regardé Récupérer ses Données You...</td>\n",
       "      <td>https://www.youtube.com/watch?v=4Vo6kF4jWn8</td>\n",
       "      <td>[{'name': 'Labo Des Réseaux', 'url': 'https://...</td>\n",
       "      <td>2024-03-31T14:22:02.374Z</td>\n",
       "      <td>NaN</td>\n",
       "    </tr>\n",
       "    <tr>\n",
       "      <th>1</th>\n",
       "      <td>Vous avez regardé FR_fr_1019_Spring_Instream_Y...</td>\n",
       "      <td>https://www.youtube.com/watch?v=JR9tdqcj0-4</td>\n",
       "      <td>NaN</td>\n",
       "      <td>2024-03-31T14:21:52.118Z</td>\n",
       "      <td>[{'name': 'Des annonces Google'}]</td>\n",
       "    </tr>\n",
       "    <tr>\n",
       "      <th>2</th>\n",
       "      <td>Vous avez regardé BeautifulSoup + Requests | W...</td>\n",
       "      <td>https://www.youtube.com/watch?v=bargNl2WeN4</td>\n",
       "      <td>[{'name': 'Alex The Analyst', 'url': 'https://...</td>\n",
       "      <td>2024-03-31T13:52:12.369Z</td>\n",
       "      <td>NaN</td>\n",
       "    </tr>\n",
       "  </tbody>\n",
       "</table>\n",
       "</div>"
      ],
      "text/plain": [
       "                                               title  \\\n",
       "0  Vous avez regardé Récupérer ses Données You...   \n",
       "1  Vous avez regardé FR_fr_1019_Spring_Instream_Y...   \n",
       "2  Vous avez regardé BeautifulSoup + Requests | W...   \n",
       "\n",
       "                                      titleUrl  \\\n",
       "0  https://www.youtube.com/watch?v=4Vo6kF4jWn8   \n",
       "1  https://www.youtube.com/watch?v=JR9tdqcj0-4   \n",
       "2  https://www.youtube.com/watch?v=bargNl2WeN4   \n",
       "\n",
       "                                           subtitles  \\\n",
       "0  [{'name': 'Labo Des Réseaux', 'url': 'https://...   \n",
       "1                                                NaN   \n",
       "2  [{'name': 'Alex The Analyst', 'url': 'https://...   \n",
       "\n",
       "                       time                            details  \n",
       "0  2024-03-31T14:22:02.374Z                                NaN  \n",
       "1  2024-03-31T14:21:52.118Z  [{'name': 'Des annonces Google'}]  \n",
       "2  2024-03-31T13:52:12.369Z                                NaN  "
      ]
     },
     "execution_count": 21,
     "metadata": {},
     "output_type": "execute_result"
    }
   ],
   "source": [
    "wt.head(3)"
   ]
  },
  {
   "cell_type": "markdown",
   "id": "aab15afe",
   "metadata": {
    "jp-MarkdownHeadingCollapsed": true,
    "tags": []
   },
   "source": [
    "<h3> columns organization </h3>"
   ]
  },
  {
   "cell_type": "code",
   "execution_count": 23,
   "id": "6acaf169",
   "metadata": {},
   "outputs": [
    {
     "data": {
      "text/html": [
       "<div>\n",
       "<style scoped>\n",
       "    .dataframe tbody tr th:only-of-type {\n",
       "        vertical-align: middle;\n",
       "    }\n",
       "\n",
       "    .dataframe tbody tr th {\n",
       "        vertical-align: top;\n",
       "    }\n",
       "\n",
       "    .dataframe thead th {\n",
       "        text-align: right;\n",
       "    }\n",
       "</style>\n",
       "<table border=\"1\" class=\"dataframe\">\n",
       "  <thead>\n",
       "    <tr style=\"text-align: right;\">\n",
       "      <th></th>\n",
       "      <th>title</th>\n",
       "      <th>titleUrl</th>\n",
       "      <th>subtitles</th>\n",
       "      <th>time</th>\n",
       "      <th>details</th>\n",
       "      <th>video_ID</th>\n",
       "    </tr>\n",
       "  </thead>\n",
       "  <tbody>\n",
       "    <tr>\n",
       "      <th>0</th>\n",
       "      <td>Récupérer ses Données YouTube</td>\n",
       "      <td>https://www.youtube.com/watch?v=4Vo6kF4jWn8</td>\n",
       "      <td>[{'name': 'Labo Des Réseaux', 'url': 'https://...</td>\n",
       "      <td>2024-03-31T14:22:02.374Z</td>\n",
       "      <td>NaN</td>\n",
       "      <td>4Vo6kF4jWn8</td>\n",
       "    </tr>\n",
       "    <tr>\n",
       "      <th>1</th>\n",
       "      <td>FR_fr_1019_Spring_Instream_YT_16x9_10_C_414081...</td>\n",
       "      <td>https://www.youtube.com/watch?v=JR9tdqcj0-4</td>\n",
       "      <td>NaN</td>\n",
       "      <td>2024-03-31T14:21:52.118Z</td>\n",
       "      <td>[{'name': 'Des annonces Google'}]</td>\n",
       "      <td>JR9tdqcj0-4</td>\n",
       "    </tr>\n",
       "    <tr>\n",
       "      <th>2</th>\n",
       "      <td>BeautifulSoup + Requests | Web Scraping in Python</td>\n",
       "      <td>https://www.youtube.com/watch?v=bargNl2WeN4</td>\n",
       "      <td>[{'name': 'Alex The Analyst', 'url': 'https://...</td>\n",
       "      <td>2024-03-31T13:52:12.369Z</td>\n",
       "      <td>NaN</td>\n",
       "      <td>bargNl2WeN4</td>\n",
       "    </tr>\n",
       "  </tbody>\n",
       "</table>\n",
       "</div>"
      ],
      "text/plain": [
       "                                               title  \\\n",
       "0                   Récupérer ses Données YouTube   \n",
       "1  FR_fr_1019_Spring_Instream_YT_16x9_10_C_414081...   \n",
       "2  BeautifulSoup + Requests | Web Scraping in Python   \n",
       "\n",
       "                                      titleUrl  \\\n",
       "0  https://www.youtube.com/watch?v=4Vo6kF4jWn8   \n",
       "1  https://www.youtube.com/watch?v=JR9tdqcj0-4   \n",
       "2  https://www.youtube.com/watch?v=bargNl2WeN4   \n",
       "\n",
       "                                           subtitles  \\\n",
       "0  [{'name': 'Labo Des Réseaux', 'url': 'https://...   \n",
       "1                                                NaN   \n",
       "2  [{'name': 'Alex The Analyst', 'url': 'https://...   \n",
       "\n",
       "                       time                            details     video_ID  \n",
       "0  2024-03-31T14:22:02.374Z                                NaN  4Vo6kF4jWn8  \n",
       "1  2024-03-31T14:21:52.118Z  [{'name': 'Des annonces Google'}]  JR9tdqcj0-4  \n",
       "2  2024-03-31T13:52:12.369Z                                NaN  bargNl2WeN4  "
      ]
     },
     "execution_count": 23,
     "metadata": {},
     "output_type": "execute_result"
    }
   ],
   "source": [
    "#Cleaning Title\n",
    "wt['title'] = wt['title'].str.replace('Vous avez regardé ','')\n",
    "#Fetch video-ID from the url and place it on a different columns\n",
    "wt['video_ID'] = wt['titleUrl'].str.split('=').str[1]\n",
    "\n",
    "wt.head(3)"
   ]
  },
  {
   "cell_type": "code",
   "execution_count": 25,
   "id": "5de42baf",
   "metadata": {},
   "outputs": [],
   "source": [
    "#Fetch the date and time in different columns and set them to datetime type\n",
    "wt['time'] = wt['time'].str.replace('T',' ').str.split('.').str[0]\n",
    "wt['time'] = wt['time'].str.replace('Z','')\n",
    "wt['time'] = pd.to_datetime(wt['time'])"
   ]
  },
  {
   "cell_type": "markdown",
   "id": "1a5b00b1",
   "metadata": {
    "jp-MarkdownHeadingCollapsed": true,
    "tags": []
   },
   "source": [
    "<h3>Filter the advertisement in a different dataframe</h3>\n",
    "\n",
    "* Dataframe tableau_pub : only Google advertisement\n",
    "* Dataframe working_table (wt) : extract the advertisement"
   ]
  },
  {
   "cell_type": "code",
   "execution_count": 27,
   "id": "68638cc2",
   "metadata": {},
   "outputs": [
    {
     "data": {
      "text/html": [
       "<div>\n",
       "<style scoped>\n",
       "    .dataframe tbody tr th:only-of-type {\n",
       "        vertical-align: middle;\n",
       "    }\n",
       "\n",
       "    .dataframe tbody tr th {\n",
       "        vertical-align: top;\n",
       "    }\n",
       "\n",
       "    .dataframe thead th {\n",
       "        text-align: right;\n",
       "    }\n",
       "</style>\n",
       "<table border=\"1\" class=\"dataframe\">\n",
       "  <thead>\n",
       "    <tr style=\"text-align: right;\">\n",
       "      <th></th>\n",
       "      <th>title</th>\n",
       "      <th>titleUrl</th>\n",
       "      <th>subtitles</th>\n",
       "      <th>time</th>\n",
       "      <th>details</th>\n",
       "    </tr>\n",
       "  </thead>\n",
       "  <tbody>\n",
       "    <tr>\n",
       "      <th>1</th>\n",
       "      <td>FR_fr_1019_Spring_Instream_YT_16x9_10_C_414081...</td>\n",
       "      <td>https://www.youtube.com/watch?v=JR9tdqcj0-4</td>\n",
       "      <td>NaN</td>\n",
       "      <td>2024-03-31 14:21:52</td>\n",
       "      <td>[{'name': 'Des annonces Google'}]</td>\n",
       "    </tr>\n",
       "    <tr>\n",
       "      <th>3</th>\n",
       "      <td>02 ResponsableProjetCybersecuriteSI 16 9</td>\n",
       "      <td>https://www.youtube.com/watch?v=wKLFC8Uxvtc</td>\n",
       "      <td>NaN</td>\n",
       "      <td>2024-03-31 13:52:03</td>\n",
       "      <td>[{'name': 'Des annonces Google'}]</td>\n",
       "    </tr>\n",
       "    <tr>\n",
       "      <th>4</th>\n",
       "      <td>20221219 HELLOFRESH  PEACE OF MIND V5 ssST</td>\n",
       "      <td>https://www.youtube.com/watch?v=xDlM2D1LGDQ</td>\n",
       "      <td>NaN</td>\n",
       "      <td>2024-03-31 13:51:40</td>\n",
       "      <td>[{'name': 'Des annonces Google'}]</td>\n",
       "    </tr>\n",
       "  </tbody>\n",
       "</table>\n",
       "</div>"
      ],
      "text/plain": [
       "                                               title  \\\n",
       "1  FR_fr_1019_Spring_Instream_YT_16x9_10_C_414081...   \n",
       "3           02 ResponsableProjetCybersecuriteSI 16 9   \n",
       "4         20221219 HELLOFRESH  PEACE OF MIND V5 ssST   \n",
       "\n",
       "                                      titleUrl subtitles                time  \\\n",
       "1  https://www.youtube.com/watch?v=JR9tdqcj0-4       NaN 2024-03-31 14:21:52   \n",
       "3  https://www.youtube.com/watch?v=wKLFC8Uxvtc       NaN 2024-03-31 13:52:03   \n",
       "4  https://www.youtube.com/watch?v=xDlM2D1LGDQ       NaN 2024-03-31 13:51:40   \n",
       "\n",
       "                             details  \n",
       "1  [{'name': 'Des annonces Google'}]  \n",
       "3  [{'name': 'Des annonces Google'}]  \n",
       "4  [{'name': 'Des annonces Google'}]  "
      ]
     },
     "execution_count": 27,
     "metadata": {},
     "output_type": "execute_result"
    }
   ],
   "source": [
    "tableau_pub = wt.copy()\n",
    "tableau_pub = wt[wt['subtitles'].isnull()&wt['details'].notnull()]\n",
    "tableau_pub = tableau_pub.drop(['video_ID'],axis=1)\n",
    "tableau_pub.head(3)"
   ]
  },
  {
   "cell_type": "code",
   "execution_count": 29,
   "id": "d7e819de",
   "metadata": {},
   "outputs": [
    {
     "data": {
      "text/html": [
       "<div>\n",
       "<style scoped>\n",
       "    .dataframe tbody tr th:only-of-type {\n",
       "        vertical-align: middle;\n",
       "    }\n",
       "\n",
       "    .dataframe tbody tr th {\n",
       "        vertical-align: top;\n",
       "    }\n",
       "\n",
       "    .dataframe thead th {\n",
       "        text-align: right;\n",
       "    }\n",
       "</style>\n",
       "<table border=\"1\" class=\"dataframe\">\n",
       "  <thead>\n",
       "    <tr style=\"text-align: right;\">\n",
       "      <th></th>\n",
       "      <th>title</th>\n",
       "      <th>titleUrl</th>\n",
       "      <th>subtitles</th>\n",
       "      <th>time</th>\n",
       "      <th>video_ID</th>\n",
       "    </tr>\n",
       "  </thead>\n",
       "  <tbody>\n",
       "    <tr>\n",
       "      <th>0</th>\n",
       "      <td>Récupérer ses Données YouTube</td>\n",
       "      <td>https://www.youtube.com/watch?v=4Vo6kF4jWn8</td>\n",
       "      <td>[{'name': 'Labo Des Réseaux', 'url': 'https://...</td>\n",
       "      <td>2024-03-31 14:22:02</td>\n",
       "      <td>4Vo6kF4jWn8</td>\n",
       "    </tr>\n",
       "    <tr>\n",
       "      <th>2</th>\n",
       "      <td>BeautifulSoup + Requests | Web Scraping in Python</td>\n",
       "      <td>https://www.youtube.com/watch?v=bargNl2WeN4</td>\n",
       "      <td>[{'name': 'Alex The Analyst', 'url': 'https://...</td>\n",
       "      <td>2024-03-31 13:52:12</td>\n",
       "      <td>bargNl2WeN4</td>\n",
       "    </tr>\n",
       "    <tr>\n",
       "      <th>5</th>\n",
       "      <td>Inspecting Web Pages with HTML | Web Scraping ...</td>\n",
       "      <td>https://www.youtube.com/watch?v=q-kbzWjyPak</td>\n",
       "      <td>[{'name': 'Alex The Analyst', 'url': 'https://...</td>\n",
       "      <td>2024-03-31 13:43:46</td>\n",
       "      <td>q-kbzWjyPak</td>\n",
       "    </tr>\n",
       "    <tr>\n",
       "      <th>7</th>\n",
       "      <td>Building an Automated File Sorter in File Expl...</td>\n",
       "      <td>https://www.youtube.com/watch?v=gs0FNQR0njI</td>\n",
       "      <td>[{'name': 'Alex The Analyst', 'url': 'https://...</td>\n",
       "      <td>2024-03-31 13:39:53</td>\n",
       "      <td>gs0FNQR0njI</td>\n",
       "    </tr>\n",
       "    <tr>\n",
       "      <th>8</th>\n",
       "      <td>FREE Data Analyst Bootcamp!!</td>\n",
       "      <td>https://www.youtube.com/watch?v=rGx1QNdYzvs</td>\n",
       "      <td>[{'name': 'Alex The Analyst', 'url': 'https://...</td>\n",
       "      <td>2024-03-31 13:39:23</td>\n",
       "      <td>rGx1QNdYzvs</td>\n",
       "    </tr>\n",
       "  </tbody>\n",
       "</table>\n",
       "</div>"
      ],
      "text/plain": [
       "                                               title  \\\n",
       "0                   Récupérer ses Données YouTube   \n",
       "2  BeautifulSoup + Requests | Web Scraping in Python   \n",
       "5  Inspecting Web Pages with HTML | Web Scraping ...   \n",
       "7  Building an Automated File Sorter in File Expl...   \n",
       "8                       FREE Data Analyst Bootcamp!!   \n",
       "\n",
       "                                      titleUrl  \\\n",
       "0  https://www.youtube.com/watch?v=4Vo6kF4jWn8   \n",
       "2  https://www.youtube.com/watch?v=bargNl2WeN4   \n",
       "5  https://www.youtube.com/watch?v=q-kbzWjyPak   \n",
       "7  https://www.youtube.com/watch?v=gs0FNQR0njI   \n",
       "8  https://www.youtube.com/watch?v=rGx1QNdYzvs   \n",
       "\n",
       "                                           subtitles                time  \\\n",
       "0  [{'name': 'Labo Des Réseaux', 'url': 'https://... 2024-03-31 14:22:02   \n",
       "2  [{'name': 'Alex The Analyst', 'url': 'https://... 2024-03-31 13:52:12   \n",
       "5  [{'name': 'Alex The Analyst', 'url': 'https://... 2024-03-31 13:43:46   \n",
       "7  [{'name': 'Alex The Analyst', 'url': 'https://... 2024-03-31 13:39:53   \n",
       "8  [{'name': 'Alex The Analyst', 'url': 'https://... 2024-03-31 13:39:23   \n",
       "\n",
       "      video_ID  \n",
       "0  4Vo6kF4jWn8  \n",
       "2  bargNl2WeN4  \n",
       "5  q-kbzWjyPak  \n",
       "7  gs0FNQR0njI  \n",
       "8  rGx1QNdYzvs  "
      ]
     },
     "execution_count": 29,
     "metadata": {},
     "output_type": "execute_result"
    }
   ],
   "source": [
    "wt = wt[wt['subtitles'].notnull()]\n",
    "wt = wt.drop(['details'],axis=1)\n",
    "wt.head()"
   ]
  },
  {
   "cell_type": "markdown",
   "id": "06ea01f2",
   "metadata": {
    "jp-MarkdownHeadingCollapsed": true,
    "tags": []
   },
   "source": [
    "<h3> Fetch data from the subtitles columns </h3>"
   ]
  },
  {
   "cell_type": "code",
   "execution_count": 31,
   "id": "1339b2fa",
   "metadata": {},
   "outputs": [],
   "source": [
    "author = []\n",
    "channel_url = []\n",
    "for element in wt['subtitles']:\n",
    "    author.append(element[0][\"name\"])\n",
    "    channel_url.append(element[0][\"url\"])\n",
    "wt['creator']=author\n",
    "wt['channel_url']=channel_url"
   ]
  },
  {
   "cell_type": "code",
   "execution_count": 33,
   "id": "baa334eb",
   "metadata": {},
   "outputs": [
    {
     "data": {
      "text/html": [
       "<div>\n",
       "<style scoped>\n",
       "    .dataframe tbody tr th:only-of-type {\n",
       "        vertical-align: middle;\n",
       "    }\n",
       "\n",
       "    .dataframe tbody tr th {\n",
       "        vertical-align: top;\n",
       "    }\n",
       "\n",
       "    .dataframe thead th {\n",
       "        text-align: right;\n",
       "    }\n",
       "</style>\n",
       "<table border=\"1\" class=\"dataframe\">\n",
       "  <thead>\n",
       "    <tr style=\"text-align: right;\">\n",
       "      <th></th>\n",
       "      <th>title</th>\n",
       "      <th>titleUrl</th>\n",
       "      <th>subtitles</th>\n",
       "      <th>time</th>\n",
       "      <th>video_ID</th>\n",
       "      <th>creator</th>\n",
       "      <th>channel_url</th>\n",
       "    </tr>\n",
       "  </thead>\n",
       "  <tbody>\n",
       "    <tr>\n",
       "      <th>0</th>\n",
       "      <td>Récupérer ses Données YouTube</td>\n",
       "      <td>https://www.youtube.com/watch?v=4Vo6kF4jWn8</td>\n",
       "      <td>[{'name': 'Labo Des Réseaux', 'url': 'https://...</td>\n",
       "      <td>2024-03-31 14:22:02</td>\n",
       "      <td>4Vo6kF4jWn8</td>\n",
       "      <td>Labo Des Réseaux</td>\n",
       "      <td>https://www.youtube.com/channel/UCMJEpQVv0p3qz...</td>\n",
       "    </tr>\n",
       "    <tr>\n",
       "      <th>2</th>\n",
       "      <td>BeautifulSoup + Requests | Web Scraping in Python</td>\n",
       "      <td>https://www.youtube.com/watch?v=bargNl2WeN4</td>\n",
       "      <td>[{'name': 'Alex The Analyst', 'url': 'https://...</td>\n",
       "      <td>2024-03-31 13:52:12</td>\n",
       "      <td>bargNl2WeN4</td>\n",
       "      <td>Alex The Analyst</td>\n",
       "      <td>https://www.youtube.com/channel/UC7cs8q-gJRlGw...</td>\n",
       "    </tr>\n",
       "    <tr>\n",
       "      <th>5</th>\n",
       "      <td>Inspecting Web Pages with HTML | Web Scraping ...</td>\n",
       "      <td>https://www.youtube.com/watch?v=q-kbzWjyPak</td>\n",
       "      <td>[{'name': 'Alex The Analyst', 'url': 'https://...</td>\n",
       "      <td>2024-03-31 13:43:46</td>\n",
       "      <td>q-kbzWjyPak</td>\n",
       "      <td>Alex The Analyst</td>\n",
       "      <td>https://www.youtube.com/channel/UC7cs8q-gJRlGw...</td>\n",
       "    </tr>\n",
       "  </tbody>\n",
       "</table>\n",
       "</div>"
      ],
      "text/plain": [
       "                                               title  \\\n",
       "0                   Récupérer ses Données YouTube   \n",
       "2  BeautifulSoup + Requests | Web Scraping in Python   \n",
       "5  Inspecting Web Pages with HTML | Web Scraping ...   \n",
       "\n",
       "                                      titleUrl  \\\n",
       "0  https://www.youtube.com/watch?v=4Vo6kF4jWn8   \n",
       "2  https://www.youtube.com/watch?v=bargNl2WeN4   \n",
       "5  https://www.youtube.com/watch?v=q-kbzWjyPak   \n",
       "\n",
       "                                           subtitles                time  \\\n",
       "0  [{'name': 'Labo Des Réseaux', 'url': 'https://... 2024-03-31 14:22:02   \n",
       "2  [{'name': 'Alex The Analyst', 'url': 'https://... 2024-03-31 13:52:12   \n",
       "5  [{'name': 'Alex The Analyst', 'url': 'https://... 2024-03-31 13:43:46   \n",
       "\n",
       "      video_ID           creator  \\\n",
       "0  4Vo6kF4jWn8  Labo Des Réseaux   \n",
       "2  bargNl2WeN4  Alex The Analyst   \n",
       "5  q-kbzWjyPak  Alex The Analyst   \n",
       "\n",
       "                                         channel_url  \n",
       "0  https://www.youtube.com/channel/UCMJEpQVv0p3qz...  \n",
       "2  https://www.youtube.com/channel/UC7cs8q-gJRlGw...  \n",
       "5  https://www.youtube.com/channel/UC7cs8q-gJRlGw...  "
      ]
     },
     "execution_count": 33,
     "metadata": {},
     "output_type": "execute_result"
    }
   ],
   "source": [
    "wt.head(3)"
   ]
  },
  {
   "cell_type": "markdown",
   "id": "2583917b",
   "metadata": {},
   "source": [
    "<h3> Index reset </h3>"
   ]
  },
  {
   "cell_type": "code",
   "execution_count": null,
   "id": "e56e778c",
   "metadata": {},
   "outputs": [],
   "source": [
    "wt.index=range(len(wt))\n",
    "wt = wt.drop(['subtitles'],axis=1)\n",
    "wt.head(3)"
   ]
  },
  {
   "cell_type": "markdown",
   "id": "1f9b3fb2",
   "metadata": {},
   "source": [
    "<h3>Fetch channel_id from the channel_url </h3>"
   ]
  },
  {
   "cell_type": "code",
   "execution_count": 41,
   "id": "3dac54e2",
   "metadata": {},
   "outputs": [
    {
     "data": {
      "text/html": [
       "<div>\n",
       "<style scoped>\n",
       "    .dataframe tbody tr th:only-of-type {\n",
       "        vertical-align: middle;\n",
       "    }\n",
       "\n",
       "    .dataframe tbody tr th {\n",
       "        vertical-align: top;\n",
       "    }\n",
       "\n",
       "    .dataframe thead th {\n",
       "        text-align: right;\n",
       "    }\n",
       "</style>\n",
       "<table border=\"1\" class=\"dataframe\">\n",
       "  <thead>\n",
       "    <tr style=\"text-align: right;\">\n",
       "      <th></th>\n",
       "      <th>title</th>\n",
       "      <th>titleUrl</th>\n",
       "      <th>time</th>\n",
       "      <th>video_ID</th>\n",
       "      <th>creator</th>\n",
       "      <th>channel_url</th>\n",
       "      <th>channel_id</th>\n",
       "    </tr>\n",
       "  </thead>\n",
       "  <tbody>\n",
       "    <tr>\n",
       "      <th>0</th>\n",
       "      <td>Récupérer ses Données YouTube</td>\n",
       "      <td>https://www.youtube.com/watch?v=4Vo6kF4jWn8</td>\n",
       "      <td>2024-03-31 14:22:02</td>\n",
       "      <td>4Vo6kF4jWn8</td>\n",
       "      <td>Labo Des Réseaux</td>\n",
       "      <td>https://www.youtube.com/channel/UCMJEpQVv0p3qz...</td>\n",
       "      <td>UCMJEpQVv0p3qzJnQ9IuiiMA</td>\n",
       "    </tr>\n",
       "    <tr>\n",
       "      <th>1</th>\n",
       "      <td>BeautifulSoup + Requests | Web Scraping in Python</td>\n",
       "      <td>https://www.youtube.com/watch?v=bargNl2WeN4</td>\n",
       "      <td>2024-03-31 13:52:12</td>\n",
       "      <td>bargNl2WeN4</td>\n",
       "      <td>Alex The Analyst</td>\n",
       "      <td>https://www.youtube.com/channel/UC7cs8q-gJRlGw...</td>\n",
       "      <td>UC7cs8q-gJRlGwj4A8OmCmXg</td>\n",
       "    </tr>\n",
       "    <tr>\n",
       "      <th>2</th>\n",
       "      <td>Inspecting Web Pages with HTML | Web Scraping ...</td>\n",
       "      <td>https://www.youtube.com/watch?v=q-kbzWjyPak</td>\n",
       "      <td>2024-03-31 13:43:46</td>\n",
       "      <td>q-kbzWjyPak</td>\n",
       "      <td>Alex The Analyst</td>\n",
       "      <td>https://www.youtube.com/channel/UC7cs8q-gJRlGw...</td>\n",
       "      <td>UC7cs8q-gJRlGwj4A8OmCmXg</td>\n",
       "    </tr>\n",
       "  </tbody>\n",
       "</table>\n",
       "</div>"
      ],
      "text/plain": [
       "                                               title  \\\n",
       "0                   Récupérer ses Données YouTube   \n",
       "1  BeautifulSoup + Requests | Web Scraping in Python   \n",
       "2  Inspecting Web Pages with HTML | Web Scraping ...   \n",
       "\n",
       "                                      titleUrl                time  \\\n",
       "0  https://www.youtube.com/watch?v=4Vo6kF4jWn8 2024-03-31 14:22:02   \n",
       "1  https://www.youtube.com/watch?v=bargNl2WeN4 2024-03-31 13:52:12   \n",
       "2  https://www.youtube.com/watch?v=q-kbzWjyPak 2024-03-31 13:43:46   \n",
       "\n",
       "      video_ID           creator  \\\n",
       "0  4Vo6kF4jWn8  Labo Des Réseaux   \n",
       "1  bargNl2WeN4  Alex The Analyst   \n",
       "2  q-kbzWjyPak  Alex The Analyst   \n",
       "\n",
       "                                         channel_url                channel_id  \n",
       "0  https://www.youtube.com/channel/UCMJEpQVv0p3qz...  UCMJEpQVv0p3qzJnQ9IuiiMA  \n",
       "1  https://www.youtube.com/channel/UC7cs8q-gJRlGw...  UC7cs8q-gJRlGwj4A8OmCmXg  \n",
       "2  https://www.youtube.com/channel/UC7cs8q-gJRlGw...  UC7cs8q-gJRlGwj4A8OmCmXg  "
      ]
     },
     "execution_count": 41,
     "metadata": {},
     "output_type": "execute_result"
    }
   ],
   "source": [
    "wt['channel_id']= wt['channel_url'].str.replace('https://www.youtube.com/channel/','')\n",
    "wt.head(3)"
   ]
  },
  {
   "cell_type": "markdown",
   "id": "c9bf7bda",
   "metadata": {
    "tags": []
   },
   "source": [
    "<h2 align=center> Recuperation channels data from Youtube API </h2>"
   ]
  },
  {
   "cell_type": "markdown",
   "id": "4343e981",
   "metadata": {},
   "source": [
    "* identification channels where I watched more than 10 videos\n",
    "* convert there channel_id to a list\n",
    "* pass the list to the youtube API and scrap their data"
   ]
  },
  {
   "cell_type": "code",
   "execution_count": 43,
   "id": "7cbc025a",
   "metadata": {},
   "outputs": [
    {
     "data": {
      "text/plain": [
       "312"
      ]
     },
     "execution_count": 43,
     "metadata": {},
     "output_type": "execute_result"
    }
   ],
   "source": [
    "count = wt.channel_id.value_counts()\n",
    "count = count[count > 10]\n",
    "len(count)"
   ]
  },
  {
   "cell_type": "code",
   "execution_count": 45,
   "id": "5d6ee26c",
   "metadata": {},
   "outputs": [],
   "source": [
    "channel_scraping = pd.DataFrame(data=count)\n",
    "channel_scraping = channel_scraping.reset_index()"
   ]
  },
  {
   "cell_type": "code",
   "execution_count": 47,
   "id": "3b253c65",
   "metadata": {},
   "outputs": [],
   "source": [
    "api_key ='****'\n",
    "youtube= build('youtube', 'v3', developerKey=api_key)"
   ]
  },
  {
   "cell_type": "code",
   "execution_count": 49,
   "id": "b57d2005",
   "metadata": {},
   "outputs": [],
   "source": [
    "channel_ids = channel_scraping['channel_id'].tolist()"
   ]
  },
  {
   "cell_type": "code",
   "execution_count": 51,
   "id": "aa24d86e",
   "metadata": {},
   "outputs": [],
   "source": [
    "def get_channel_stats(youtube, channel_ids):\n",
    "    all_data = []\n",
    "    \n",
    "    for i in range(0,len(channel_ids),50):                  \n",
    "        request = youtube.channels().list(\n",
    "            part=\"snippet,contentDetails,statistics,id\",\n",
    "            id = ','.join(channel_ids[i:i+50]))\n",
    "        response = request.execute()\n",
    "\n",
    "        for i in range(len(response['items'])):\n",
    "            data =dict(Channel_name = response['items'][i]['snippet']['title'],\n",
    "                       channel_id = response['items'][i]['id'], \n",
    "                       Channel_date = response['items'][i]['snippet']['publishedAt'],\n",
    "                       Subscribers = response['items'][i]['statistics']['subscriberCount'],\n",
    "                       Views = response['items'][i]['statistics']['viewCount'],\n",
    "                       country = response['items'][i]['snippet'].get('country'),\n",
    "                       Total_videos = response['items'][i]['statistics']['videoCount'])\n",
    "                       \n",
    "            all_data.append(data)\n",
    "    \n",
    "    return all_data"
   ]
  },
  {
   "cell_type": "code",
   "execution_count": 53,
   "id": "ec8ab254",
   "metadata": {},
   "outputs": [],
   "source": [
    "channel_statitics = get_channel_stats(youtube, channel_ids)\n",
    "channel_data = pd.DataFrame(channel_statitics)"
   ]
  },
  {
   "cell_type": "code",
   "execution_count": 55,
   "id": "1013f576",
   "metadata": {},
   "outputs": [
    {
     "data": {
      "text/html": [
       "<div>\n",
       "<style scoped>\n",
       "    .dataframe tbody tr th:only-of-type {\n",
       "        vertical-align: middle;\n",
       "    }\n",
       "\n",
       "    .dataframe tbody tr th {\n",
       "        vertical-align: top;\n",
       "    }\n",
       "\n",
       "    .dataframe thead th {\n",
       "        text-align: right;\n",
       "    }\n",
       "</style>\n",
       "<table border=\"1\" class=\"dataframe\">\n",
       "  <thead>\n",
       "    <tr style=\"text-align: right;\">\n",
       "      <th></th>\n",
       "      <th>Channel_name</th>\n",
       "      <th>channel_id</th>\n",
       "      <th>Channel_date</th>\n",
       "      <th>Subscribers</th>\n",
       "      <th>Views</th>\n",
       "      <th>country</th>\n",
       "      <th>Total_videos</th>\n",
       "      <th>count</th>\n",
       "    </tr>\n",
       "  </thead>\n",
       "  <tbody>\n",
       "    <tr>\n",
       "      <th>7</th>\n",
       "      <td>CloudKid</td>\n",
       "      <td>UCSa8IUd1uEjlREMa21I3ZPQ</td>\n",
       "      <td>2013-07-30T20:10:22Z</td>\n",
       "      <td>5330000</td>\n",
       "      <td>2972232344</td>\n",
       "      <td>US</td>\n",
       "      <td>2758</td>\n",
       "      <td>1432</td>\n",
       "    </tr>\n",
       "    <tr>\n",
       "      <th>16</th>\n",
       "      <td>ImagineDragonsVEVO</td>\n",
       "      <td>UCpx_k19S2vUutWUUM9qmXEg</td>\n",
       "      <td>2012-01-23T18:04:00Z</td>\n",
       "      <td>9520000</td>\n",
       "      <td>14902187298</td>\n",
       "      <td>None</td>\n",
       "      <td>226</td>\n",
       "      <td>401</td>\n",
       "    </tr>\n",
       "    <tr>\n",
       "      <th>15</th>\n",
       "      <td>Adam Jensen</td>\n",
       "      <td>UChRJQ2QyKsY1EbBqM8GzzRg</td>\n",
       "      <td>2011-10-07T00:27:55Z</td>\n",
       "      <td>118000</td>\n",
       "      <td>90312820</td>\n",
       "      <td>US</td>\n",
       "      <td>71</td>\n",
       "      <td>330</td>\n",
       "    </tr>\n",
       "    <tr>\n",
       "      <th>44</th>\n",
       "      <td>McSkyz</td>\n",
       "      <td>UC4OjGShlHwNNd6jQ23GVJ5A</td>\n",
       "      <td>2011-07-18T09:49:59Z</td>\n",
       "      <td>1750000</td>\n",
       "      <td>282601923</td>\n",
       "      <td>FR</td>\n",
       "      <td>288</td>\n",
       "      <td>234</td>\n",
       "    </tr>\n",
       "    <tr>\n",
       "      <th>17</th>\n",
       "      <td>twenty one pilots</td>\n",
       "      <td>UCBQZwaNPFfJ1gZ1fLZpAEGw</td>\n",
       "      <td>2009-09-05T05:57:18Z</td>\n",
       "      <td>13400000</td>\n",
       "      <td>5778309370</td>\n",
       "      <td>US</td>\n",
       "      <td>205</td>\n",
       "      <td>193</td>\n",
       "    </tr>\n",
       "    <tr>\n",
       "      <th>...</th>\n",
       "      <td>...</td>\n",
       "      <td>...</td>\n",
       "      <td>...</td>\n",
       "      <td>...</td>\n",
       "      <td>...</td>\n",
       "      <td>...</td>\n",
       "      <td>...</td>\n",
       "      <td>...</td>\n",
       "    </tr>\n",
       "    <tr>\n",
       "      <th>276</th>\n",
       "      <td>P2 DBOXS</td>\n",
       "      <td>UCgO3YEcCq98JZVF672wX0lg</td>\n",
       "      <td>2023-03-25T19:36:09.997693Z</td>\n",
       "      <td>313000</td>\n",
       "      <td>335120702</td>\n",
       "      <td>BD</td>\n",
       "      <td>93</td>\n",
       "      <td>11</td>\n",
       "    </tr>\n",
       "    <tr>\n",
       "      <th>275</th>\n",
       "      <td>POPSLAY</td>\n",
       "      <td>UCZNu2DGg9phKQUzUywxawAA</td>\n",
       "      <td>2021-04-18T17:00:25.318517Z</td>\n",
       "      <td>129000</td>\n",
       "      <td>12277186</td>\n",
       "      <td>FR</td>\n",
       "      <td>83</td>\n",
       "      <td>11</td>\n",
       "    </tr>\n",
       "    <tr>\n",
       "      <th>253</th>\n",
       "      <td>JokerTwd</td>\n",
       "      <td>UC0i-1mpARwzftXp7DdpKDOw</td>\n",
       "      <td>2015-04-11T09:03:14Z</td>\n",
       "      <td>50100</td>\n",
       "      <td>39607415</td>\n",
       "      <td>FR</td>\n",
       "      <td>416</td>\n",
       "      <td>11</td>\n",
       "    </tr>\n",
       "    <tr>\n",
       "      <th>257</th>\n",
       "      <td>Anthony Crazy</td>\n",
       "      <td>UCwlLTQ2yiKu0GCwNK70-pww</td>\n",
       "      <td>2018-04-02T20:50:23Z</td>\n",
       "      <td>374000</td>\n",
       "      <td>174084760</td>\n",
       "      <td>FR</td>\n",
       "      <td>69</td>\n",
       "      <td>11</td>\n",
       "    </tr>\n",
       "    <tr>\n",
       "      <th>311</th>\n",
       "      <td>Pinkcorn</td>\n",
       "      <td>UC5ZU5aMlWtJkHeUPbsv_cfA</td>\n",
       "      <td>2023-05-22T13:46:15.664464Z</td>\n",
       "      <td>76800</td>\n",
       "      <td>55994194</td>\n",
       "      <td>FR</td>\n",
       "      <td>177</td>\n",
       "      <td>11</td>\n",
       "    </tr>\n",
       "  </tbody>\n",
       "</table>\n",
       "<p>312 rows × 8 columns</p>\n",
       "</div>"
      ],
      "text/plain": [
       "           Channel_name                channel_id  \\\n",
       "7              CloudKid  UCSa8IUd1uEjlREMa21I3ZPQ   \n",
       "16   ImagineDragonsVEVO  UCpx_k19S2vUutWUUM9qmXEg   \n",
       "15          Adam Jensen  UChRJQ2QyKsY1EbBqM8GzzRg   \n",
       "44               McSkyz  UC4OjGShlHwNNd6jQ23GVJ5A   \n",
       "17    twenty one pilots  UCBQZwaNPFfJ1gZ1fLZpAEGw   \n",
       "..                  ...                       ...   \n",
       "276           P2 DBOXS   UCgO3YEcCq98JZVF672wX0lg   \n",
       "275             POPSLAY  UCZNu2DGg9phKQUzUywxawAA   \n",
       "253            JokerTwd  UC0i-1mpARwzftXp7DdpKDOw   \n",
       "257       Anthony Crazy  UCwlLTQ2yiKu0GCwNK70-pww   \n",
       "311            Pinkcorn  UC5ZU5aMlWtJkHeUPbsv_cfA   \n",
       "\n",
       "                    Channel_date Subscribers        Views country  \\\n",
       "7           2013-07-30T20:10:22Z     5330000   2972232344      US   \n",
       "16          2012-01-23T18:04:00Z     9520000  14902187298    None   \n",
       "15          2011-10-07T00:27:55Z      118000     90312820      US   \n",
       "44          2011-07-18T09:49:59Z     1750000    282601923      FR   \n",
       "17          2009-09-05T05:57:18Z    13400000   5778309370      US   \n",
       "..                           ...         ...          ...     ...   \n",
       "276  2023-03-25T19:36:09.997693Z      313000    335120702      BD   \n",
       "275  2021-04-18T17:00:25.318517Z      129000     12277186      FR   \n",
       "253         2015-04-11T09:03:14Z       50100     39607415      FR   \n",
       "257         2018-04-02T20:50:23Z      374000    174084760      FR   \n",
       "311  2023-05-22T13:46:15.664464Z       76800     55994194      FR   \n",
       "\n",
       "    Total_videos  count  \n",
       "7           2758   1432  \n",
       "16           226    401  \n",
       "15            71    330  \n",
       "44           288    234  \n",
       "17           205    193  \n",
       "..           ...    ...  \n",
       "276           93     11  \n",
       "275           83     11  \n",
       "253          416     11  \n",
       "257           69     11  \n",
       "311          177     11  \n",
       "\n",
       "[312 rows x 8 columns]"
      ]
     },
     "execution_count": 55,
     "metadata": {},
     "output_type": "execute_result"
    }
   ],
   "source": [
    "data_channel = pd.merge(channel_data, channel_scraping, how='inner',on='channel_id')\n",
    "data_channel = data_channel.sort_values('count',ascending=False)\n",
    "data_channel"
   ]
  },
  {
   "cell_type": "code",
   "execution_count": 57,
   "id": "ae1e5cc5",
   "metadata": {},
   "outputs": [
    {
     "data": {
      "text/plain": [
       "Channel_name            object\n",
       "channel_id              object\n",
       "Channel_date    datetime64[ns]\n",
       "Subscribers              int64\n",
       "Views                    int64\n",
       "country                 object\n",
       "Total_videos             int64\n",
       "count                    int64\n",
       "dtype: object"
      ]
     },
     "execution_count": 57,
     "metadata": {},
     "output_type": "execute_result"
    }
   ],
   "source": [
    "# cleanning datatype : numeric\n",
    "numeric_cols = ['Subscribers','Views','Total_videos']\n",
    "data_channel[numeric_cols] = data_channel[numeric_cols].apply(pd.to_numeric, errors='coerce')\n",
    "\n",
    "#cleaning datatype: datetime\n",
    "data_channel['Channel_date'] = data_channel['Channel_date'].str.replace('T',' ').str.split('.').str[0]\n",
    "data_channel['Channel_date'] = data_channel['Channel_date'].str.replace('Z','')\n",
    "data_channel['Channel_date'] = pd.to_datetime(data_channel['Channel_date'])\n",
    "\n",
    "\n",
    "#result\n",
    "data_channel.dtypes"
   ]
  },
  {
   "cell_type": "code",
   "execution_count": 59,
   "id": "8a1ea342",
   "metadata": {},
   "outputs": [
    {
     "data": {
      "text/html": [
       "<div>\n",
       "<style scoped>\n",
       "    .dataframe tbody tr th:only-of-type {\n",
       "        vertical-align: middle;\n",
       "    }\n",
       "\n",
       "    .dataframe tbody tr th {\n",
       "        vertical-align: top;\n",
       "    }\n",
       "\n",
       "    .dataframe thead th {\n",
       "        text-align: right;\n",
       "    }\n",
       "</style>\n",
       "<table border=\"1\" class=\"dataframe\">\n",
       "  <thead>\n",
       "    <tr style=\"text-align: right;\">\n",
       "      <th></th>\n",
       "      <th>Channel_name</th>\n",
       "      <th>channel_id</th>\n",
       "      <th>Channel_date</th>\n",
       "      <th>Subscribers</th>\n",
       "      <th>Views</th>\n",
       "      <th>country</th>\n",
       "      <th>Total_videos</th>\n",
       "      <th>count</th>\n",
       "    </tr>\n",
       "  </thead>\n",
       "  <tbody>\n",
       "    <tr>\n",
       "      <th>7</th>\n",
       "      <td>CloudKid</td>\n",
       "      <td>UCSa8IUd1uEjlREMa21I3ZPQ</td>\n",
       "      <td>2013-07-30 20:10:22</td>\n",
       "      <td>5330000</td>\n",
       "      <td>2972232344</td>\n",
       "      <td>US</td>\n",
       "      <td>2758</td>\n",
       "      <td>1432</td>\n",
       "    </tr>\n",
       "    <tr>\n",
       "      <th>16</th>\n",
       "      <td>ImagineDragonsVEVO</td>\n",
       "      <td>UCpx_k19S2vUutWUUM9qmXEg</td>\n",
       "      <td>2012-01-23 18:04:00</td>\n",
       "      <td>9520000</td>\n",
       "      <td>14902187298</td>\n",
       "      <td>None</td>\n",
       "      <td>226</td>\n",
       "      <td>401</td>\n",
       "    </tr>\n",
       "    <tr>\n",
       "      <th>15</th>\n",
       "      <td>Adam Jensen</td>\n",
       "      <td>UChRJQ2QyKsY1EbBqM8GzzRg</td>\n",
       "      <td>2011-10-07 00:27:55</td>\n",
       "      <td>118000</td>\n",
       "      <td>90312820</td>\n",
       "      <td>US</td>\n",
       "      <td>71</td>\n",
       "      <td>330</td>\n",
       "    </tr>\n",
       "  </tbody>\n",
       "</table>\n",
       "</div>"
      ],
      "text/plain": [
       "          Channel_name                channel_id        Channel_date  \\\n",
       "7             CloudKid  UCSa8IUd1uEjlREMa21I3ZPQ 2013-07-30 20:10:22   \n",
       "16  ImagineDragonsVEVO  UCpx_k19S2vUutWUUM9qmXEg 2012-01-23 18:04:00   \n",
       "15         Adam Jensen  UChRJQ2QyKsY1EbBqM8GzzRg 2011-10-07 00:27:55   \n",
       "\n",
       "    Subscribers        Views country  Total_videos  count  \n",
       "7       5330000   2972232344      US          2758   1432  \n",
       "16      9520000  14902187298    None           226    401  \n",
       "15       118000     90312820      US            71    330  "
      ]
     },
     "execution_count": 59,
     "metadata": {},
     "output_type": "execute_result"
    }
   ],
   "source": [
    "data_channel.head(3)"
   ]
  },
  {
   "cell_type": "markdown",
   "id": "221554b4",
   "metadata": {
    "tags": []
   },
   "source": [
    "<h2 align = center> Recuperation datas from all my videos history </h2>"
   ]
  },
  {
   "cell_type": "markdown",
   "id": "0d5f2b2b-0d54-4eff-be95-638a26c4ab69",
   "metadata": {
    "tags": []
   },
   "source": [
    "### Recuperation data youtube's API"
   ]
  },
  {
   "cell_type": "code",
   "execution_count": 61,
   "id": "1b4508b9",
   "metadata": {},
   "outputs": [
    {
     "data": {
      "text/plain": [
       "16648"
      ]
     },
     "execution_count": 61,
     "metadata": {},
     "output_type": "execute_result"
    }
   ],
   "source": [
    "count_video = wt.video_ID.value_counts()\n",
    "len(count_video)"
   ]
  },
  {
   "cell_type": "code",
   "execution_count": 63,
   "id": "2dd606bf",
   "metadata": {},
   "outputs": [
    {
     "data": {
      "text/html": [
       "<div>\n",
       "<style scoped>\n",
       "    .dataframe tbody tr th:only-of-type {\n",
       "        vertical-align: middle;\n",
       "    }\n",
       "\n",
       "    .dataframe tbody tr th {\n",
       "        vertical-align: top;\n",
       "    }\n",
       "\n",
       "    .dataframe thead th {\n",
       "        text-align: right;\n",
       "    }\n",
       "</style>\n",
       "<table border=\"1\" class=\"dataframe\">\n",
       "  <thead>\n",
       "    <tr style=\"text-align: right;\">\n",
       "      <th></th>\n",
       "      <th>video_ID</th>\n",
       "      <th>count</th>\n",
       "    </tr>\n",
       "  </thead>\n",
       "  <tbody>\n",
       "    <tr>\n",
       "      <th>0</th>\n",
       "      <td>EgwQG3MYp3o</td>\n",
       "      <td>67</td>\n",
       "    </tr>\n",
       "    <tr>\n",
       "      <th>1</th>\n",
       "      <td>i4AXVFggAnk</td>\n",
       "      <td>64</td>\n",
       "    </tr>\n",
       "    <tr>\n",
       "      <th>2</th>\n",
       "      <td>L3wKzyIN1yk</td>\n",
       "      <td>63</td>\n",
       "    </tr>\n",
       "  </tbody>\n",
       "</table>\n",
       "</div>"
      ],
      "text/plain": [
       "      video_ID  count\n",
       "0  EgwQG3MYp3o     67\n",
       "1  i4AXVFggAnk     64\n",
       "2  L3wKzyIN1yk     63"
      ]
     },
     "execution_count": 63,
     "metadata": {},
     "output_type": "execute_result"
    }
   ],
   "source": [
    "video_scraping = pd.DataFrame(data=count_video)\n",
    "video_scraping = video_scraping.reset_index()\n",
    "video_scraping.head(3)"
   ]
  },
  {
   "cell_type": "code",
   "execution_count": 65,
   "id": "0314f0f7",
   "metadata": {},
   "outputs": [],
   "source": [
    "video_ids = video_scraping['video_ID'].tolist()"
   ]
  },
  {
   "cell_type": "code",
   "execution_count": 67,
   "id": "397c5dcc",
   "metadata": {},
   "outputs": [],
   "source": [
    "def get_video_details(youtube, video_ids):\n",
    "    all_videos_stats = []\n",
    "    \n",
    "    for i in range(0, len(video_ids), 50):\n",
    "        request = youtube.videos().list(\n",
    "            part = 'snippet, statistics',\n",
    "            id=','.join(video_ids[i:i+50]))\n",
    "        response = request.execute()\n",
    "\n",
    "        for video in response['items']:\n",
    "            video_stats = dict(title = video['snippet']['title'],\n",
    "                                Published_date = video['snippet']['publishedAt'],\n",
    "                                Views = video['statistics'].get('viewCount'),\n",
    "                                Like = video['statistics'].get('likeCount'),\n",
    "                                Comments = video['statistics'].get('commentCount'),\n",
    "                                Videocategory = video['snippet']['categoryId']\n",
    "                              )\n",
    "            all_videos_stats.append(video_stats)\n",
    "\n",
    "    return all_videos_stats"
   ]
  },
  {
   "cell_type": "code",
   "execution_count": 69,
   "id": "8908c203",
   "metadata": {},
   "outputs": [
    {
     "data": {
      "text/html": [
       "<div>\n",
       "<style scoped>\n",
       "    .dataframe tbody tr th:only-of-type {\n",
       "        vertical-align: middle;\n",
       "    }\n",
       "\n",
       "    .dataframe tbody tr th {\n",
       "        vertical-align: top;\n",
       "    }\n",
       "\n",
       "    .dataframe thead th {\n",
       "        text-align: right;\n",
       "    }\n",
       "</style>\n",
       "<table border=\"1\" class=\"dataframe\">\n",
       "  <thead>\n",
       "    <tr style=\"text-align: right;\">\n",
       "      <th></th>\n",
       "      <th>title</th>\n",
       "      <th>Published_date</th>\n",
       "      <th>Views</th>\n",
       "      <th>Like</th>\n",
       "      <th>Comments</th>\n",
       "      <th>Videocategory</th>\n",
       "    </tr>\n",
       "  </thead>\n",
       "  <tbody>\n",
       "    <tr>\n",
       "      <th>0</th>\n",
       "      <td>Silent Child - F**k You (Lyric Video)</td>\n",
       "      <td>2020-08-26T15:27:16Z</td>\n",
       "      <td>42422990</td>\n",
       "      <td>598706</td>\n",
       "      <td>3367</td>\n",
       "      <td>10</td>\n",
       "    </tr>\n",
       "    <tr>\n",
       "      <th>1</th>\n",
       "      <td>Stela Cole - Love Like Mine</td>\n",
       "      <td>2020-09-25T15:27:08Z</td>\n",
       "      <td>17870692</td>\n",
       "      <td>140165</td>\n",
       "      <td>933</td>\n",
       "      <td>10</td>\n",
       "    </tr>\n",
       "    <tr>\n",
       "      <th>2</th>\n",
       "      <td>Rag'n'Bone Man - Human (Official Video)</td>\n",
       "      <td>2016-07-21T11:00:00Z</td>\n",
       "      <td>1884737908</td>\n",
       "      <td>12215869</td>\n",
       "      <td>248117</td>\n",
       "      <td>10</td>\n",
       "    </tr>\n",
       "  </tbody>\n",
       "</table>\n",
       "</div>"
      ],
      "text/plain": [
       "                                     title        Published_date       Views  \\\n",
       "0    Silent Child - F**k You (Lyric Video)  2020-08-26T15:27:16Z    42422990   \n",
       "1              Stela Cole - Love Like Mine  2020-09-25T15:27:08Z    17870692   \n",
       "2  Rag'n'Bone Man - Human (Official Video)  2016-07-21T11:00:00Z  1884737908   \n",
       "\n",
       "       Like Comments Videocategory  \n",
       "0    598706     3367            10  \n",
       "1    140165      933            10  \n",
       "2  12215869   248117            10  "
      ]
     },
     "execution_count": 69,
     "metadata": {},
     "output_type": "execute_result"
    }
   ],
   "source": [
    "video_statitics = get_video_details(youtube, video_ids)\n",
    "video_data = pd.DataFrame(video_statitics)\n",
    "video_data.head(3)"
   ]
  },
  {
   "cell_type": "code",
   "execution_count": 71,
   "id": "afdae547",
   "metadata": {},
   "outputs": [
    {
     "name": "stdout",
     "output_type": "stream",
     "text": [
      "<class 'pandas.core.frame.DataFrame'>\n",
      "RangeIndex: 22238 entries, 0 to 22237\n",
      "Data columns (total 12 columns):\n",
      " #   Column          Non-Null Count  Dtype         \n",
      "---  ------          --------------  -----         \n",
      " 0   title           22238 non-null  object        \n",
      " 1   Published_date  22238 non-null  object        \n",
      " 2   Views           22237 non-null  object        \n",
      " 3   Like            21969 non-null  object        \n",
      " 4   Comments        22076 non-null  object        \n",
      " 5   Videocategory   22238 non-null  object        \n",
      " 6   titleUrl        22238 non-null  object        \n",
      " 7   time            22238 non-null  datetime64[ns]\n",
      " 8   video_ID        22238 non-null  object        \n",
      " 9   creator         22238 non-null  object        \n",
      " 10  channel_url     22238 non-null  object        \n",
      " 11  channel_id      22238 non-null  object        \n",
      "dtypes: datetime64[ns](1), object(11)\n",
      "memory usage: 2.0+ MB\n"
     ]
    }
   ],
   "source": [
    "data_video = pd.merge(video_data, wt, how='inner',on='title')\n",
    "data_video.info()"
   ]
  },
  {
   "cell_type": "markdown",
   "id": "9e7e2fe3-93c7-40a8-a111-80d895451ee9",
   "metadata": {
    "tags": []
   },
   "source": [
    "### formating dataframe"
   ]
  },
  {
   "cell_type": "code",
   "execution_count": 73,
   "id": "f6cfd38a",
   "metadata": {},
   "outputs": [
    {
     "data": {
      "text/plain": [
       "title                     object\n",
       "Published_date    datetime64[ns]\n",
       "Views                    float64\n",
       "Like                     float64\n",
       "Comments                 float64\n",
       "Videocategory             object\n",
       "titleUrl                  object\n",
       "time              datetime64[ns]\n",
       "video_ID                  object\n",
       "creator                   object\n",
       "channel_url               object\n",
       "channel_id                object\n",
       "dtype: object"
      ]
     },
     "execution_count": 73,
     "metadata": {},
     "output_type": "execute_result"
    }
   ],
   "source": [
    "# cleanning datatype : numeric\n",
    "numeric_cols = ['Views','Like','Comments']\n",
    "data_video[numeric_cols] = data_video[numeric_cols].apply(pd.to_numeric, errors='coerce')\n",
    "\n",
    "#cleaning datatype: datetime\n",
    "data_video['Published_date'] = data_video['Published_date'].str.split('T').str[0]\n",
    "data_video['Published_date'] = pd.to_datetime(data_video['Published_date'])\n",
    "\n",
    "#result\n",
    "data_video.dtypes"
   ]
  },
  {
   "cell_type": "code",
   "execution_count": 75,
   "id": "fdf6e862",
   "metadata": {},
   "outputs": [
    {
     "data": {
      "text/plain": [
       "Videocategory\n",
       "10    6143\n",
       "24    5244\n",
       "22    4172\n",
       "23    1912\n",
       "20    1199\n",
       "27    1000\n",
       "1      854\n",
       "26     558\n",
       "28     356\n",
       "25     345\n",
       "17     230\n",
       "19     126\n",
       "15      53\n",
       "2       26\n",
       "29      13\n",
       "44       7\n",
       "Name: count, dtype: int64"
      ]
     },
     "execution_count": 75,
     "metadata": {},
     "output_type": "execute_result"
    }
   ],
   "source": [
    "data_video.Videocategory.value_counts()"
   ]
  },
  {
   "cell_type": "code",
   "execution_count": 77,
   "id": "5d20445c",
   "metadata": {},
   "outputs": [],
   "source": [
    "my_categories = {'10':'Music','24':'Entertainment','22':'People&Blog','23':'Comedy','20':'Gaming','27':'Education',\n",
    "                 '1':'Film&Animation','26':'HowTo&Style','28':'Science&Technology','25':'News&Politics','17':'Sports',\n",
    "                '19':'Travel&Events','15':'Pets&Animal','2':'Autos','29':'NonProfits&Activism','44':'Trailers'}"
   ]
  },
  {
   "cell_type": "code",
   "execution_count": 79,
   "id": "52f264b0",
   "metadata": {},
   "outputs": [],
   "source": [
    "data_video['Videocategory'] = data_video['Videocategory'].map(my_categories)"
   ]
  },
  {
   "cell_type": "code",
   "execution_count": 81,
   "id": "7322b28a-653d-436e-82ce-dfc3da8a5726",
   "metadata": {
    "tags": []
   },
   "outputs": [
    {
     "data": {
      "text/plain": [
       "Videocategory\n",
       "Music                  6143\n",
       "Entertainment          5244\n",
       "People&Blog            4172\n",
       "Comedy                 1912\n",
       "Gaming                 1199\n",
       "Education              1000\n",
       "Film&Animation          854\n",
       "HowTo&Style             558\n",
       "Science&Technology      356\n",
       "News&Politics           345\n",
       "Sports                  230\n",
       "Travel&Events           126\n",
       "Pets&Animal              53\n",
       "Autos                    26\n",
       "NonProfits&Activism      13\n",
       "Trailers                  7\n",
       "Name: count, dtype: int64"
      ]
     },
     "execution_count": 81,
     "metadata": {},
     "output_type": "execute_result"
    }
   ],
   "source": [
    "data_video.Videocategory.value_counts()"
   ]
  },
  {
   "cell_type": "markdown",
   "id": "d86ae1be-5453-4f22-b7ce-8c89a06d062a",
   "metadata": {
    "tags": []
   },
   "source": [
    "### 2018-2023"
   ]
  },
  {
   "cell_type": "code",
   "execution_count": 104,
   "id": "48e66188-cd5f-4ac0-8116-4f3890f90b06",
   "metadata": {
    "tags": []
   },
   "outputs": [
    {
     "name": "stdout",
     "output_type": "stream",
     "text": [
      "<class 'pandas.core.frame.DataFrame'>\n",
      "RangeIndex: 22238 entries, 0 to 22237\n",
      "Data columns (total 13 columns):\n",
      " #   Column          Non-Null Count  Dtype         \n",
      "---  ------          --------------  -----         \n",
      " 0   title           22238 non-null  object        \n",
      " 1   Published_date  22238 non-null  datetime64[ns]\n",
      " 2   Views           22237 non-null  float64       \n",
      " 3   Like            21969 non-null  float64       \n",
      " 4   Comments        22076 non-null  float64       \n",
      " 5   Videocategory   22238 non-null  object        \n",
      " 6   titleUrl        22238 non-null  object        \n",
      " 7   time            22238 non-null  datetime64[ns]\n",
      " 8   video_ID        22238 non-null  object        \n",
      " 9   creator         22238 non-null  object        \n",
      " 10  channel_url     22238 non-null  object        \n",
      " 11  channel_id      22238 non-null  object        \n",
      " 12  year            22238 non-null  int32         \n",
      "dtypes: datetime64[ns](2), float64(3), int32(1), object(7)\n",
      "memory usage: 2.1+ MB\n"
     ]
    }
   ],
   "source": [
    "data_video.info()"
   ]
  },
  {
   "cell_type": "code",
   "execution_count": 106,
   "id": "719831a5-ca31-4a57-9be9-7b6594872486",
   "metadata": {
    "tags": []
   },
   "outputs": [
    {
     "name": "stdout",
     "output_type": "stream",
     "text": [
      "nb videos 2012 to 2017 : 1139\n",
      "nb videos 2018 to 2024 : 21099\n"
     ]
    }
   ],
   "source": [
    "data_video['year'] = data_video['time'].dt.year\n",
    "\n",
    "nb_video_2017 = len(data_video[(data_video['year']<=2017)])\n",
    "nb_video_2018 = len(data_video[(data_video['year']>2017)])\n",
    "\n",
    "print(f'nb videos 2012 to 2017 : {nb_video_2017}')\n",
    "print(f'nb videos 2018 to 2024 : {nb_video_2018}')"
   ]
  },
  {
   "cell_type": "code",
   "execution_count": 108,
   "id": "fc98b7f2-00f1-4ea0-8b09-e4d028743abb",
   "metadata": {
    "tags": []
   },
   "outputs": [
    {
     "data": {
      "text/plain": [
       "year\n",
       "2018     1723\n",
       "2019      365\n",
       "2020      610\n",
       "2021     1245\n",
       "2022     2693\n",
       "2023    11935\n",
       "dtype: int64"
      ]
     },
     "execution_count": 108,
     "metadata": {},
     "output_type": "execute_result"
    }
   ],
   "source": [
    "# filtrer le plus de données, enlevé 2024, data sur année entière\n",
    "data_video_2018 = data_video.copy()\n",
    "data_video_2018 = data_video_2018[(data_video_2018['year']>2017) & (data_video_2018['year']<2024)]\n",
    "data_video_2018.groupby('year').size()"
   ]
  },
  {
   "cell_type": "markdown",
   "id": "a842c3ba-95e7-4f27-b7cf-2ca2e739139f",
   "metadata": {},
   "source": [
    "### fetch duration of videos"
   ]
  },
  {
   "cell_type": "code",
   "execution_count": null,
   "id": "66f9498d-7e15-415e-a3fe-8c0fbdec4051",
   "metadata": {},
   "outputs": [],
   "source": [
    "#excel transitoire pour récolter les durées manuellement (irrécupérable via API ou Selene) +suppr videos, watch only the begining ... \n",
    "df_video_id= pd.DataFrame(video_data[['title','titleUrl','video_ID','year']])\n",
    "df_video_id.to_excel('vd_id_time.xlsx')"
   ]
  },
  {
   "cell_type": "code",
   "execution_count": 98,
   "id": "3a81cf02-6cdc-4018-aa33-5c5aa8ee1175",
   "metadata": {
    "tags": []
   },
   "outputs": [
    {
     "data": {
      "text/html": [
       "<div>\n",
       "<style scoped>\n",
       "    .dataframe tbody tr th:only-of-type {\n",
       "        vertical-align: middle;\n",
       "    }\n",
       "\n",
       "    .dataframe tbody tr th {\n",
       "        vertical-align: top;\n",
       "    }\n",
       "\n",
       "    .dataframe thead th {\n",
       "        text-align: right;\n",
       "    }\n",
       "</style>\n",
       "<table border=\"1\" class=\"dataframe\">\n",
       "  <thead>\n",
       "    <tr style=\"text-align: right;\">\n",
       "      <th></th>\n",
       "      <th>title</th>\n",
       "      <th>titleUrl</th>\n",
       "      <th>video_ID</th>\n",
       "      <th>year</th>\n",
       "      <th>duration</th>\n",
       "    </tr>\n",
       "  </thead>\n",
       "  <tbody>\n",
       "    <tr>\n",
       "      <th>0</th>\n",
       "      <td>Silent Child - F**k You (Lyric Video)</td>\n",
       "      <td>https://www.youtube.com/watch?v=EgwQG3MYp3o</td>\n",
       "      <td>EgwQG3MYp3o</td>\n",
       "      <td>2023</td>\n",
       "      <td>3.30</td>\n",
       "    </tr>\n",
       "    <tr>\n",
       "      <th>1</th>\n",
       "      <td>Silent Child - F**k You (Lyric Video)</td>\n",
       "      <td>https://www.youtube.com/watch?v=EgwQG3MYp3o</td>\n",
       "      <td>EgwQG3MYp3o</td>\n",
       "      <td>2023</td>\n",
       "      <td>3.30</td>\n",
       "    </tr>\n",
       "    <tr>\n",
       "      <th>2</th>\n",
       "      <td>Silent Child - F**k You (Lyric Video)</td>\n",
       "      <td>https://www.youtube.com/watch?v=EgwQG3MYp3o</td>\n",
       "      <td>EgwQG3MYp3o</td>\n",
       "      <td>2023</td>\n",
       "      <td>3.30</td>\n",
       "    </tr>\n",
       "    <tr>\n",
       "      <th>3</th>\n",
       "      <td>Silent Child - F**k You (Lyric Video)</td>\n",
       "      <td>https://www.youtube.com/watch?v=EgwQG3MYp3o</td>\n",
       "      <td>EgwQG3MYp3o</td>\n",
       "      <td>2023</td>\n",
       "      <td>3.30</td>\n",
       "    </tr>\n",
       "    <tr>\n",
       "      <th>4</th>\n",
       "      <td>Silent Child - F**k You (Lyric Video)</td>\n",
       "      <td>https://www.youtube.com/watch?v=EgwQG3MYp3o</td>\n",
       "      <td>EgwQG3MYp3o</td>\n",
       "      <td>2023</td>\n",
       "      <td>3.30</td>\n",
       "    </tr>\n",
       "    <tr>\n",
       "      <th>...</th>\n",
       "      <td>...</td>\n",
       "      <td>...</td>\n",
       "      <td>...</td>\n",
       "      <td>...</td>\n",
       "      <td>...</td>\n",
       "    </tr>\n",
       "    <tr>\n",
       "      <th>18626</th>\n",
       "      <td>imagine the day they see you again..</td>\n",
       "      <td>https://www.youtube.com/watch?v=ZrBZNonf_qw</td>\n",
       "      <td>ZrBZNonf_qw</td>\n",
       "      <td>2023</td>\n",
       "      <td>0.07</td>\n",
       "    </tr>\n",
       "    <tr>\n",
       "      <th>18627</th>\n",
       "      <td>Je suis une BDH ?! 🚨</td>\n",
       "      <td>https://www.youtube.com/watch?v=hIlfuwJ9Of0</td>\n",
       "      <td>hIlfuwJ9Of0</td>\n",
       "      <td>2023</td>\n",
       "      <td>0.22</td>\n",
       "    </tr>\n",
       "    <tr>\n",
       "      <th>18628</th>\n",
       "      <td>Aww this was so cute 🥹❤️</td>\n",
       "      <td>https://www.youtube.com/watch?v=i-bZBXNExik</td>\n",
       "      <td>i-bZBXNExik</td>\n",
       "      <td>2023</td>\n",
       "      <td>0.27</td>\n",
       "    </tr>\n",
       "    <tr>\n",
       "      <th>18629</th>\n",
       "      <td>IM JUST KEN #Shorts</td>\n",
       "      <td>https://www.youtube.com/watch?v=947RyXTZ8Yo</td>\n",
       "      <td>947RyXTZ8Yo</td>\n",
       "      <td>2023</td>\n",
       "      <td>0.14</td>\n",
       "    </tr>\n",
       "    <tr>\n",
       "      <th>18630</th>\n",
       "      <td>De l'argent de poche avec des photos WTF 📸 🤪</td>\n",
       "      <td>https://www.youtube.com/watch?v=cluXt1PxSrs</td>\n",
       "      <td>cluXt1PxSrs</td>\n",
       "      <td>2023</td>\n",
       "      <td>0.32</td>\n",
       "    </tr>\n",
       "  </tbody>\n",
       "</table>\n",
       "<p>18631 rows × 5 columns</p>\n",
       "</div>"
      ],
      "text/plain": [
       "                                              title  \\\n",
       "0             Silent Child - F**k You (Lyric Video)   \n",
       "1             Silent Child - F**k You (Lyric Video)   \n",
       "2             Silent Child - F**k You (Lyric Video)   \n",
       "3             Silent Child - F**k You (Lyric Video)   \n",
       "4             Silent Child - F**k You (Lyric Video)   \n",
       "...                                             ...   \n",
       "18626          imagine the day they see you again..   \n",
       "18627                          Je suis une BDH ?! 🚨   \n",
       "18628                      Aww this was so cute 🥹❤️   \n",
       "18629                           IM JUST KEN #Shorts   \n",
       "18630  De l'argent de poche avec des photos WTF 📸 🤪   \n",
       "\n",
       "                                          titleUrl     video_ID  year  \\\n",
       "0      https://www.youtube.com/watch?v=EgwQG3MYp3o  EgwQG3MYp3o  2023   \n",
       "1      https://www.youtube.com/watch?v=EgwQG3MYp3o  EgwQG3MYp3o  2023   \n",
       "2      https://www.youtube.com/watch?v=EgwQG3MYp3o  EgwQG3MYp3o  2023   \n",
       "3      https://www.youtube.com/watch?v=EgwQG3MYp3o  EgwQG3MYp3o  2023   \n",
       "4      https://www.youtube.com/watch?v=EgwQG3MYp3o  EgwQG3MYp3o  2023   \n",
       "...                                            ...          ...   ...   \n",
       "18626  https://www.youtube.com/watch?v=ZrBZNonf_qw  ZrBZNonf_qw  2023   \n",
       "18627  https://www.youtube.com/watch?v=hIlfuwJ9Of0  hIlfuwJ9Of0  2023   \n",
       "18628  https://www.youtube.com/watch?v=i-bZBXNExik  i-bZBXNExik  2023   \n",
       "18629  https://www.youtube.com/watch?v=947RyXTZ8Yo  947RyXTZ8Yo  2023   \n",
       "18630  https://www.youtube.com/watch?v=cluXt1PxSrs  cluXt1PxSrs  2023   \n",
       "\n",
       "       duration  \n",
       "0          3.30  \n",
       "1          3.30  \n",
       "2          3.30  \n",
       "3          3.30  \n",
       "4          3.30  \n",
       "...         ...  \n",
       "18626      0.07  \n",
       "18627      0.22  \n",
       "18628      0.27  \n",
       "18629      0.14  \n",
       "18630      0.32  \n",
       "\n",
       "[18631 rows x 5 columns]"
      ]
     },
     "execution_count": 98,
     "metadata": {},
     "output_type": "execute_result"
    }
   ],
   "source": [
    "#retrieve form excel avec durée en minute\n",
    "df_duration = pd.read_excel('vd_id_time_duration.xlsx')\n",
    "df_duration= df_duration.drop([\"Colonne1\"],axis=1)\n",
    "df_duration"
   ]
  },
  {
   "cell_type": "code",
   "execution_count": 114,
   "id": "3dd1f0fb-17cf-41d0-bf46-7c35b3d1c11b",
   "metadata": {
    "tags": []
   },
   "outputs": [
    {
     "name": "stdout",
     "output_type": "stream",
     "text": [
      "<class 'pandas.core.frame.DataFrame'>\n",
      "RangeIndex: 18631 entries, 0 to 18630\n",
      "Data columns (total 5 columns):\n",
      " #   Column    Non-Null Count  Dtype  \n",
      "---  ------    --------------  -----  \n",
      " 0   title     18631 non-null  object \n",
      " 1   titleUrl  18631 non-null  object \n",
      " 2   video_ID  18631 non-null  object \n",
      " 3   year      18631 non-null  int64  \n",
      " 4   duration  17756 non-null  float64\n",
      "dtypes: float64(1), int64(1), object(3)\n",
      "memory usage: 727.9+ KB\n"
     ]
    }
   ],
   "source": [
    "df_duration.info()"
   ]
  },
  {
   "cell_type": "code",
   "execution_count": 112,
   "id": "20b9ced9-0527-4290-b58b-5c2802fec1c4",
   "metadata": {
    "tags": []
   },
   "outputs": [
    {
     "name": "stdout",
     "output_type": "stream",
     "text": [
      "<class 'pandas.core.frame.DataFrame'>\n",
      "Index: 18571 entries, 9 to 22236\n",
      "Data columns (total 13 columns):\n",
      " #   Column          Non-Null Count  Dtype         \n",
      "---  ------          --------------  -----         \n",
      " 0   title           18571 non-null  object        \n",
      " 1   Published_date  18571 non-null  datetime64[ns]\n",
      " 2   Views           18570 non-null  float64       \n",
      " 3   Like            18319 non-null  float64       \n",
      " 4   Comments        18451 non-null  float64       \n",
      " 5   Videocategory   18571 non-null  object        \n",
      " 6   titleUrl        18571 non-null  object        \n",
      " 7   time            18571 non-null  datetime64[ns]\n",
      " 8   video_ID        18571 non-null  object        \n",
      " 9   creator         18571 non-null  object        \n",
      " 10  channel_url     18571 non-null  object        \n",
      " 11  channel_id      18571 non-null  object        \n",
      " 12  year            18571 non-null  int32         \n",
      "dtypes: datetime64[ns](2), float64(3), int32(1), object(7)\n",
      "memory usage: 1.9+ MB\n"
     ]
    }
   ],
   "source": [
    "data_video_2018.info()"
   ]
  },
  {
   "cell_type": "code",
   "execution_count": 118,
   "id": "690f1374-959c-4e95-9fe1-8d1bb38e9c86",
   "metadata": {
    "tags": []
   },
   "outputs": [
    {
     "data": {
      "text/html": [
       "<div>\n",
       "<style scoped>\n",
       "    .dataframe tbody tr th:only-of-type {\n",
       "        vertical-align: middle;\n",
       "    }\n",
       "\n",
       "    .dataframe tbody tr th {\n",
       "        vertical-align: top;\n",
       "    }\n",
       "\n",
       "    .dataframe thead th {\n",
       "        text-align: right;\n",
       "    }\n",
       "</style>\n",
       "<table border=\"1\" class=\"dataframe\">\n",
       "  <thead>\n",
       "    <tr style=\"text-align: right;\">\n",
       "      <th></th>\n",
       "      <th>title</th>\n",
       "      <th>Published_date</th>\n",
       "      <th>Views</th>\n",
       "      <th>Like</th>\n",
       "      <th>Comments</th>\n",
       "      <th>Videocategory</th>\n",
       "      <th>titleUrl</th>\n",
       "      <th>time</th>\n",
       "      <th>video_ID</th>\n",
       "      <th>creator</th>\n",
       "      <th>channel_url</th>\n",
       "      <th>channel_id</th>\n",
       "      <th>year</th>\n",
       "      <th>duration</th>\n",
       "    </tr>\n",
       "  </thead>\n",
       "  <tbody>\n",
       "    <tr>\n",
       "      <th>0</th>\n",
       "      <td>Silent Child - F**k You (Lyric Video)</td>\n",
       "      <td>2020-08-26</td>\n",
       "      <td>42422990.0</td>\n",
       "      <td>598706.0</td>\n",
       "      <td>3367.0</td>\n",
       "      <td>Music</td>\n",
       "      <td>https://www.youtube.com/watch?v=EgwQG3MYp3o</td>\n",
       "      <td>2023-09-13 18:40:34</td>\n",
       "      <td>EgwQG3MYp3o</td>\n",
       "      <td>CloudKid</td>\n",
       "      <td>https://www.youtube.com/channel/UCSa8IUd1uEjlR...</td>\n",
       "      <td>UCSa8IUd1uEjlREMa21I3ZPQ</td>\n",
       "      <td>2023</td>\n",
       "      <td>3.3</td>\n",
       "    </tr>\n",
       "    <tr>\n",
       "      <th>1</th>\n",
       "      <td>Silent Child - F**k You (Lyric Video)</td>\n",
       "      <td>2020-08-26</td>\n",
       "      <td>42422990.0</td>\n",
       "      <td>598706.0</td>\n",
       "      <td>3367.0</td>\n",
       "      <td>Music</td>\n",
       "      <td>https://www.youtube.com/watch?v=EgwQG3MYp3o</td>\n",
       "      <td>2023-09-13 18:40:34</td>\n",
       "      <td>EgwQG3MYp3o</td>\n",
       "      <td>CloudKid</td>\n",
       "      <td>https://www.youtube.com/channel/UCSa8IUd1uEjlR...</td>\n",
       "      <td>UCSa8IUd1uEjlREMa21I3ZPQ</td>\n",
       "      <td>2023</td>\n",
       "      <td>3.3</td>\n",
       "    </tr>\n",
       "    <tr>\n",
       "      <th>2</th>\n",
       "      <td>Silent Child - F**k You (Lyric Video)</td>\n",
       "      <td>2020-08-26</td>\n",
       "      <td>42422990.0</td>\n",
       "      <td>598706.0</td>\n",
       "      <td>3367.0</td>\n",
       "      <td>Music</td>\n",
       "      <td>https://www.youtube.com/watch?v=EgwQG3MYp3o</td>\n",
       "      <td>2023-09-13 18:40:34</td>\n",
       "      <td>EgwQG3MYp3o</td>\n",
       "      <td>CloudKid</td>\n",
       "      <td>https://www.youtube.com/channel/UCSa8IUd1uEjlR...</td>\n",
       "      <td>UCSa8IUd1uEjlREMa21I3ZPQ</td>\n",
       "      <td>2023</td>\n",
       "      <td>3.3</td>\n",
       "    </tr>\n",
       "  </tbody>\n",
       "</table>\n",
       "</div>"
      ],
      "text/plain": [
       "                                   title Published_date       Views      Like  \\\n",
       "0  Silent Child - F**k You (Lyric Video)     2020-08-26  42422990.0  598706.0   \n",
       "1  Silent Child - F**k You (Lyric Video)     2020-08-26  42422990.0  598706.0   \n",
       "2  Silent Child - F**k You (Lyric Video)     2020-08-26  42422990.0  598706.0   \n",
       "\n",
       "   Comments Videocategory                                     titleUrl  \\\n",
       "0    3367.0         Music  https://www.youtube.com/watch?v=EgwQG3MYp3o   \n",
       "1    3367.0         Music  https://www.youtube.com/watch?v=EgwQG3MYp3o   \n",
       "2    3367.0         Music  https://www.youtube.com/watch?v=EgwQG3MYp3o   \n",
       "\n",
       "                 time     video_ID   creator  \\\n",
       "0 2023-09-13 18:40:34  EgwQG3MYp3o  CloudKid   \n",
       "1 2023-09-13 18:40:34  EgwQG3MYp3o  CloudKid   \n",
       "2 2023-09-13 18:40:34  EgwQG3MYp3o  CloudKid   \n",
       "\n",
       "                                         channel_url  \\\n",
       "0  https://www.youtube.com/channel/UCSa8IUd1uEjlR...   \n",
       "1  https://www.youtube.com/channel/UCSa8IUd1uEjlR...   \n",
       "2  https://www.youtube.com/channel/UCSa8IUd1uEjlR...   \n",
       "\n",
       "                 channel_id  year  duration  \n",
       "0  UCSa8IUd1uEjlREMa21I3ZPQ  2023       3.3  \n",
       "1  UCSa8IUd1uEjlREMa21I3ZPQ  2023       3.3  \n",
       "2  UCSa8IUd1uEjlREMa21I3ZPQ  2023       3.3  "
      ]
     },
     "execution_count": 118,
     "metadata": {},
     "output_type": "execute_result"
    }
   ],
   "source": [
    "# merge df_duration et raw_data\n",
    "video_data_duration = pd.merge(data_video_2018,df_duration,how='inner',on=['video_ID','title','titleUrl','year'])\n",
    "video_data_duration.head(3)"
   ]
  },
  {
   "cell_type": "markdown",
   "id": "4e0c9d56",
   "metadata": {},
   "source": [
    "<h2 align='center'> Save Data to Excel </h2>"
   ]
  },
  {
   "cell_type": "code",
   "execution_count": 120,
   "id": "f1b061d7",
   "metadata": {},
   "outputs": [],
   "source": [
    "with pd.ExcelWriter (\"youtube_data.xlsx\") as writer :\n",
    "    wt.to_excel(writer, sheet_name='working_data',index=False)\n",
    "    tableau_pub.to_excel(writer, sheet_name='pub_data', index=False)\n",
    "    data_channel.to_excel(writer, sheet_name='channel_data',index=False)\n",
    "    data_video.to_excel(writer,sheet_name='video_data',index=False)\n",
    "    data_video_2018.to_excel(writer,sheet_name='video_data_filter_2018',index=False)\n",
    "    video_data_duration.to_excel(writer,sheet_name='video_data_complete',index=False)"
   ]
  }
 ],
 "metadata": {
  "kernelspec": {
   "display_name": "Python 3 (ipykernel)",
   "language": "python",
   "name": "python3"
  },
  "language_info": {
   "codemirror_mode": {
    "name": "ipython",
    "version": 3
   },
   "file_extension": ".py",
   "mimetype": "text/x-python",
   "name": "python",
   "nbconvert_exporter": "python",
   "pygments_lexer": "ipython3",
   "version": "3.11.7"
  }
 },
 "nbformat": 4,
 "nbformat_minor": 5
}
