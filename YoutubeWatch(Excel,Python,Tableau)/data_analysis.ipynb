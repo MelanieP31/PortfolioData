{
 "cells": [
  {
   "cell_type": "code",
   "execution_count": 1,
   "id": "e2b7da0c",
   "metadata": {},
   "outputs": [],
   "source": [
    "import pandas as pd\n",
    "import numpy as np\n",
    "import openpyxl \n",
    "import seaborn as sns\n",
    "import matplotlib.pyplot as plt\n",
    "from datetime import timedelta"
   ]
  },
  {
   "cell_type": "code",
   "execution_count": 3,
   "id": "1b1161bd",
   "metadata": {},
   "outputs": [],
   "source": [
    "xls = pd.ExcelFile('youtube_data.xlsx')\n",
    "df_channel = pd.read_excel(xls, 'channel_data')\n",
    "df_video = pd.read_excel(xls, 'video_data_complete')"
   ]
  },
  {
   "cell_type": "markdown",
   "id": "8eb4c3fd",
   "metadata": {
    "tags": []
   },
   "source": [
    "# Video_Data"
   ]
  },
  {
   "cell_type": "markdown",
   "id": "e122a64d",
   "metadata": {
    "jp-MarkdownHeadingCollapsed": true,
    "tags": []
   },
   "source": [
    "## infos df videos"
   ]
  },
  {
   "cell_type": "code",
   "execution_count": null,
   "id": "ab40f583",
   "metadata": {},
   "outputs": [],
   "source": [
    "df_video.head(3)"
   ]
  },
  {
   "cell_type": "code",
   "execution_count": null,
   "id": "27c27643-4668-4943-b1f5-4c9fa94bf001",
   "metadata": {
    "tags": []
   },
   "outputs": [],
   "source": [
    "df_video.info()"
   ]
  },
  {
   "cell_type": "markdown",
   "id": "0bdeacef-fe27-4d85-82b4-8e5ce9dc57d2",
   "metadata": {
    "tags": []
   },
   "source": [
    "## analyse number and time of videos"
   ]
  },
  {
   "cell_type": "markdown",
   "id": "4ea21c31-9f3a-477b-bed8-d9cb92ac9b6f",
   "metadata": {
    "tags": []
   },
   "source": [
    "### df nb video/lenght over the year"
   ]
  },
  {
   "cell_type": "code",
   "execution_count": 5,
   "id": "63892ea7-9a08-4dd1-8a47-068c521fbcd6",
   "metadata": {
    "tags": []
   },
   "outputs": [],
   "source": [
    "df_video_filter = df_video[df_video['duration'].notnull()]"
   ]
  },
  {
   "cell_type": "code",
   "execution_count": 7,
   "id": "2e71ae46",
   "metadata": {},
   "outputs": [
    {
     "data": {
      "text/html": [
       "<div>\n",
       "<style scoped>\n",
       "    .dataframe tbody tr th:only-of-type {\n",
       "        vertical-align: middle;\n",
       "    }\n",
       "\n",
       "    .dataframe tbody tr th {\n",
       "        vertical-align: top;\n",
       "    }\n",
       "\n",
       "    .dataframe thead th {\n",
       "        text-align: right;\n",
       "    }\n",
       "</style>\n",
       "<table border=\"1\" class=\"dataframe\">\n",
       "  <thead>\n",
       "    <tr style=\"text-align: right;\">\n",
       "      <th></th>\n",
       "      <th>year</th>\n",
       "      <th>nbVideo_Tot</th>\n",
       "      <th>nbVideo_Day</th>\n",
       "    </tr>\n",
       "  </thead>\n",
       "  <tbody>\n",
       "    <tr>\n",
       "      <th>0</th>\n",
       "      <td>2018</td>\n",
       "      <td>9045</td>\n",
       "      <td>24.8</td>\n",
       "    </tr>\n",
       "    <tr>\n",
       "      <th>1</th>\n",
       "      <td>2019</td>\n",
       "      <td>793</td>\n",
       "      <td>2.2</td>\n",
       "    </tr>\n",
       "    <tr>\n",
       "      <th>2</th>\n",
       "      <td>2020</td>\n",
       "      <td>1048</td>\n",
       "      <td>2.9</td>\n",
       "    </tr>\n",
       "    <tr>\n",
       "      <th>3</th>\n",
       "      <td>2021</td>\n",
       "      <td>6097</td>\n",
       "      <td>16.7</td>\n",
       "    </tr>\n",
       "    <tr>\n",
       "      <th>4</th>\n",
       "      <td>2022</td>\n",
       "      <td>23105</td>\n",
       "      <td>63.3</td>\n",
       "    </tr>\n",
       "    <tr>\n",
       "      <th>5</th>\n",
       "      <td>2023</td>\n",
       "      <td>27304</td>\n",
       "      <td>74.8</td>\n",
       "    </tr>\n",
       "  </tbody>\n",
       "</table>\n",
       "</div>"
      ],
      "text/plain": [
       "   year  nbVideo_Tot  nbVideo_Day\n",
       "0  2018         9045         24.8\n",
       "1  2019          793          2.2\n",
       "2  2020         1048          2.9\n",
       "3  2021         6097         16.7\n",
       "4  2022        23105         63.3\n",
       "5  2023        27304         74.8"
      ]
     },
     "execution_count": 7,
     "metadata": {},
     "output_type": "execute_result"
    }
   ],
   "source": [
    "df_nbvideo = pd.DataFrame(data=df_video_filter.groupby('year').size())\n",
    "df_nbvideo=df_nbvideo.reset_index()\n",
    "\n",
    "df_nbvideo = df_nbvideo.rename({0: 'nbVideo_Tot'},axis=1)\n",
    "df_nbvideo['nbVideo_Day']= np.round((df_nbvideo['nbVideo_Tot']/365),1)\n",
    "df_nbvideo"
   ]
  },
  {
   "cell_type": "code",
   "execution_count": 9,
   "id": "06bdd448-2788-4c2a-bef4-00eec280a2b6",
   "metadata": {
    "tags": []
   },
   "outputs": [],
   "source": [
    "df_duration = pd.DataFrame(data=df_video_filter.groupby('year')['duration'].agg(['sum','mean']))\n",
    "df_duration=df_duration.reset_index()\n",
    "\n",
    "df_vid_time = pd.merge(df_duration,df_nbvideo,how='inner',on='year')\n",
    "df_vid_time = df_vid_time.rename({'sum': 'sum_duration'},axis=1)\n",
    "df_vid_time = df_vid_time.rename({'mean': 'mean_duration'},axis=1)"
   ]
  },
  {
   "cell_type": "code",
   "execution_count": 11,
   "id": "dea445e2-3dba-466c-a802-ad7a05f0538e",
   "metadata": {
    "tags": []
   },
   "outputs": [],
   "source": [
    "count_shorts = pd.DataFrame((df_video_filter[df_video_filter['duration']<=0.59])['year'].value_counts())\n",
    "count_s = pd.DataFrame((df_video_filter[(df_video_filter['duration']>0.59)&(df_video_filter['duration']<=5)])['year'].value_counts())\n",
    "count_m = pd.DataFrame((df_video_filter[(df_video_filter['duration']>5)&(df_video_filter['duration']<=20)])['year'].value_counts())\n",
    "count_l = pd.DataFrame((df_video_filter[(df_video_filter['duration']>20)&(df_video_filter['duration']<=45)])['year'].value_counts())\n",
    "count_xl = pd.DataFrame((df_video_filter[df_video_filter['duration']>45])['year'].value_counts())"
   ]
  },
  {
   "cell_type": "code",
   "execution_count": 13,
   "id": "517b24c4-568a-4964-afca-d50ec0ba423f",
   "metadata": {
    "tags": []
   },
   "outputs": [],
   "source": [
    "count = pd.concat([count_shorts, count_s, count_m, count_l, count_xl],axis=1)\n",
    "name = ['count_shorts', 'count_s', 'count_m', 'count_l', 'count_xl']\n",
    "count.columns = name\n",
    "count = count.reset_index()\n",
    "count = count.fillna(0)"
   ]
  },
  {
   "cell_type": "code",
   "execution_count": 15,
   "id": "0c0fbf03-bd0d-45fb-a560-6bfca7ad223b",
   "metadata": {
    "tags": []
   },
   "outputs": [
    {
     "data": {
      "text/html": [
       "<div>\n",
       "<style scoped>\n",
       "    .dataframe tbody tr th:only-of-type {\n",
       "        vertical-align: middle;\n",
       "    }\n",
       "\n",
       "    .dataframe tbody tr th {\n",
       "        vertical-align: top;\n",
       "    }\n",
       "\n",
       "    .dataframe thead th {\n",
       "        text-align: right;\n",
       "    }\n",
       "</style>\n",
       "<table border=\"1\" class=\"dataframe\">\n",
       "  <thead>\n",
       "    <tr style=\"text-align: right;\">\n",
       "      <th></th>\n",
       "      <th>year</th>\n",
       "      <th>sum_duration</th>\n",
       "      <th>mean_duration</th>\n",
       "      <th>nbVideo_Tot</th>\n",
       "      <th>nbVideo_Day</th>\n",
       "      <th>count_shorts</th>\n",
       "      <th>count_s</th>\n",
       "      <th>count_m</th>\n",
       "      <th>count_l</th>\n",
       "      <th>count_xl</th>\n",
       "    </tr>\n",
       "  </thead>\n",
       "  <tbody>\n",
       "    <tr>\n",
       "      <th>0</th>\n",
       "      <td>2018</td>\n",
       "      <td>31937.61</td>\n",
       "      <td>3.530968</td>\n",
       "      <td>9045</td>\n",
       "      <td>24.8</td>\n",
       "      <td>19</td>\n",
       "      <td>8778</td>\n",
       "      <td>242</td>\n",
       "      <td>5</td>\n",
       "      <td>1</td>\n",
       "    </tr>\n",
       "    <tr>\n",
       "      <th>1</th>\n",
       "      <td>2019</td>\n",
       "      <td>3072.57</td>\n",
       "      <td>3.874615</td>\n",
       "      <td>793</td>\n",
       "      <td>2.2</td>\n",
       "      <td>1</td>\n",
       "      <td>738</td>\n",
       "      <td>48</td>\n",
       "      <td>4</td>\n",
       "      <td>2</td>\n",
       "    </tr>\n",
       "    <tr>\n",
       "      <th>2</th>\n",
       "      <td>2020</td>\n",
       "      <td>7407.52</td>\n",
       "      <td>7.068244</td>\n",
       "      <td>1048</td>\n",
       "      <td>2.9</td>\n",
       "      <td>7</td>\n",
       "      <td>771</td>\n",
       "      <td>192</td>\n",
       "      <td>68</td>\n",
       "      <td>10</td>\n",
       "    </tr>\n",
       "    <tr>\n",
       "      <th>3</th>\n",
       "      <td>2021</td>\n",
       "      <td>64640.21</td>\n",
       "      <td>10.601970</td>\n",
       "      <td>6097</td>\n",
       "      <td>16.7</td>\n",
       "      <td>1</td>\n",
       "      <td>4414</td>\n",
       "      <td>997</td>\n",
       "      <td>324</td>\n",
       "      <td>361</td>\n",
       "    </tr>\n",
       "    <tr>\n",
       "      <th>4</th>\n",
       "      <td>2022</td>\n",
       "      <td>107886.81</td>\n",
       "      <td>4.669414</td>\n",
       "      <td>23105</td>\n",
       "      <td>63.3</td>\n",
       "      <td>23</td>\n",
       "      <td>21065</td>\n",
       "      <td>1237</td>\n",
       "      <td>657</td>\n",
       "      <td>123</td>\n",
       "    </tr>\n",
       "    <tr>\n",
       "      <th>5</th>\n",
       "      <td>2023</td>\n",
       "      <td>123930.01</td>\n",
       "      <td>4.538896</td>\n",
       "      <td>27304</td>\n",
       "      <td>74.8</td>\n",
       "      <td>11683</td>\n",
       "      <td>13052</td>\n",
       "      <td>1048</td>\n",
       "      <td>1094</td>\n",
       "      <td>427</td>\n",
       "    </tr>\n",
       "  </tbody>\n",
       "</table>\n",
       "</div>"
      ],
      "text/plain": [
       "   year  sum_duration  mean_duration  nbVideo_Tot  nbVideo_Day  count_shorts  \\\n",
       "0  2018      31937.61       3.530968         9045         24.8            19   \n",
       "1  2019       3072.57       3.874615          793          2.2             1   \n",
       "2  2020       7407.52       7.068244         1048          2.9             7   \n",
       "3  2021      64640.21      10.601970         6097         16.7             1   \n",
       "4  2022     107886.81       4.669414        23105         63.3            23   \n",
       "5  2023     123930.01       4.538896        27304         74.8         11683   \n",
       "\n",
       "   count_s  count_m  count_l  count_xl  \n",
       "0     8778      242        5         1  \n",
       "1      738       48        4         2  \n",
       "2      771      192       68        10  \n",
       "3     4414      997      324       361  \n",
       "4    21065     1237      657       123  \n",
       "5    13052     1048     1094       427  "
      ]
     },
     "execution_count": 15,
     "metadata": {},
     "output_type": "execute_result"
    }
   ],
   "source": [
    "df_vid_time = pd.merge(df_vid_time, count,on='year',how='inner')\n",
    "df_vid_time"
   ]
  },
  {
   "cell_type": "code",
   "execution_count": 19,
   "id": "f7f2e0c2-d356-445b-a5ee-229ace8b70aa",
   "metadata": {
    "tags": []
   },
   "outputs": [],
   "source": [
    "df_vid_time.to_excel('year_time.xlsx')"
   ]
  },
  {
   "cell_type": "markdown",
   "id": "833feed8-baef-401b-b538-72e79546579c",
   "metadata": {
    "tags": []
   },
   "source": [
    "### analyse time and number over the year"
   ]
  },
  {
   "cell_type": "code",
   "execution_count": null,
   "id": "8b4b7659-006f-44c1-8f7e-098755af8a42",
   "metadata": {
    "tags": []
   },
   "outputs": [],
   "source": [
    "fig,axes = plt.subplots(nrows=1, ncols=2,figsize=(12,5))\n",
    "\n",
    "\n",
    "axes[0].plot(df_vid_time['year'], df_vid_time['nbVideo_Tot'])\n",
    "axes[0].bar(df_vid_time['year'], df_vid_time['count_shorts'],label='youtube shorts')\n",
    "axes[0].bar(df_vid_time['year'],df_vid_time['count_s'], bottom = df_vid_time['count_shorts'],label='videos under 5 min')\n",
    "axes[0].bar(df_vid_time['year'],df_vid_time['count_m'], bottom = df_vid_time['count_shorts'],label='videos betwwen 5 to 20min')\n",
    "axes[0].bar(df_vid_time['year'],df_vid_time['count_l'], bottom = df_vid_time['count_shorts'],label='videos between 20 to 45min')\n",
    "axes[0].bar(df_vid_time['year'],df_vid_time['count_xl'], bottom = df_vid_time['count_shorts'],label='videos longer than 45min')\n",
    "axes[0].set_title('Number of videos over the years')\n",
    "axes[0].set_xlabel('Year')\n",
    "axes[0].set_ylabel('Number of videos')\n",
    "axes[0].set_ylim(0,28000)\n",
    "\n",
    "\n",
    "axes[0].legend()\n",
    "\n",
    "axes[1].plot(df_vid_time['year'], df_vid_time['sum_duration'])\n",
    "axes[1].set_title('Watch time over the years')\n",
    "axes[1].set_xlabel('Year')\n",
    "axes[1].set_ylabel('Duration of videos')\n",
    "axes[1].set_ylim(0,130000)\n"
   ]
  },
  {
   "cell_type": "code",
   "execution_count": null,
   "id": "7ebe5533",
   "metadata": {},
   "outputs": [],
   "source": [
    "short_video = df_video_filter[(df_video_filter['duration']>0.59)&(df_video_filter['duration']<=5)]"
   ]
  },
  {
   "cell_type": "code",
   "execution_count": null,
   "id": "fc295579-c253-45c9-bc61-1ee830275066",
   "metadata": {
    "tags": []
   },
   "outputs": [],
   "source": [
    "short_video_cat = short_video.Videocategory.value_counts()[:3]\n",
    "short_video_cat2018 = short_video[(short_video['year'])==2018]['Videocategory'].value_counts()[:3]\n",
    "short_video_cat2022 = short_video[(short_video['year'])==2022]['Videocategory'].value_counts()[:3]\n",
    "short_video_cat2023 = short_video[(short_video['year'])==2023]['Videocategory'].value_counts()[:3]"
   ]
  },
  {
   "cell_type": "code",
   "execution_count": null,
   "id": "9b432afd-9ffd-483a-85ee-d625586f05a0",
   "metadata": {
    "tags": []
   },
   "outputs": [],
   "source": [
    "print(f'all-time : {short_video_cat}')\n",
    "print(f'2018 : {short_video_cat2018}')\n",
    "print(f'2022 : {short_video_cat2022}')\n",
    "print(f'2023 : {short_video_cat2023}')"
   ]
  },
  {
   "cell_type": "markdown",
   "id": "5134e1cc-242f-4d64-9065-4706a256bd6d",
   "metadata": {
    "tags": []
   },
   "source": [
    "### Delta published -View"
   ]
  },
  {
   "cell_type": "code",
   "execution_count": null,
   "id": "a60496d4",
   "metadata": {},
   "outputs": [],
   "source": [
    "then = df_video['Published_date']\n",
    "now = df_video['time']\n",
    "\n",
    "time_difference = now - then\n",
    "time_difference_in_days = time_difference / timedelta(days=1)\n",
    "\n",
    "df_video['time_difference_in_days'] = time_difference_in_days\n",
    "df_video.info()"
   ]
  },
  {
   "cell_type": "code",
   "execution_count": null,
   "id": "474d8e2d",
   "metadata": {},
   "outputs": [],
   "source": [
    "len(df_video[(df_video.time_difference_in_days)<0])"
   ]
  },
  {
   "cell_type": "code",
   "execution_count": null,
   "id": "b142a44f-ba89-4443-99e7-ad2d540112af",
   "metadata": {
    "tags": []
   },
   "outputs": [],
   "source": [
    "df_video_dt = df_video[(df_video.time_difference_in_days)>0]\n",
    "print(len(df_video))\n",
    "print(len(df_video_dt))"
   ]
  },
  {
   "cell_type": "code",
   "execution_count": null,
   "id": "ac61ce13-6829-4898-b464-bd2619067664",
   "metadata": {
    "tags": []
   },
   "outputs": [],
   "source": [
    "df_video_dt.time_difference_in_days.describe()"
   ]
  },
  {
   "cell_type": "code",
   "execution_count": null,
   "id": "6d307043-b930-41b4-bd39-7b4ca8b52f0c",
   "metadata": {
    "tags": []
   },
   "outputs": [],
   "source": [
    "df_video_dt.Videocategory.value_counts()[:5]"
   ]
  },
  {
   "cell_type": "code",
   "execution_count": null,
   "id": "fd760850-920e-4ac4-9502-9162bc48ab62",
   "metadata": {
    "tags": []
   },
   "outputs": [],
   "source": [
    "plt.figure(figsize=(8,4))\n",
    "box_plot = sns.boxplot(data=df_video_dt, y='time_difference_in_days', x='Videocategory',fliersize=0,order=['Music', 'People&Blog','Entertainment', 'Film&Animation', 'Comedy'])\n",
    "plt.xticks(rotation=90)\n",
    "plt.ylim([-100,4000])\n",
    "\n",
    "plt.show()"
   ]
  },
  {
   "cell_type": "markdown",
   "id": "728c76ff-6850-4c64-a1e1-a2e4557debdc",
   "metadata": {
    "tags": []
   },
   "source": [
    "### jour/mois et heure de visionnage"
   ]
  },
  {
   "cell_type": "code",
   "execution_count": null,
   "id": "52acf0fd-a5ec-4f0c-b466-a91f4e2e0d08",
   "metadata": {
    "tags": []
   },
   "outputs": [],
   "source": [
    "time_month = pd.DataFrame((df_video['time'].dt.month).value_counts())\n",
    "time_month = time_month.reset_index()\n",
    "time_month = time_month.sort_values('time')\n",
    "time_month"
   ]
  },
  {
   "cell_type": "code",
   "execution_count": null,
   "id": "551311e3-9cf1-46d8-8f6e-e9008cae273c",
   "metadata": {
    "tags": []
   },
   "outputs": [],
   "source": [
    "sns.barplot(data=time_month,x='time',y='count')"
   ]
  },
  {
   "cell_type": "code",
   "execution_count": null,
   "id": "888b07bc-2c62-49e7-97bf-c23b2f43c557",
   "metadata": {
    "tags": []
   },
   "outputs": [],
   "source": [
    "time_week= pd.DataFrame((df_video['time'].dt.weekday).value_counts())\n",
    "time_week = time_week.reset_index()\n",
    "time_week= time_week.sort_values('time')\n"
   ]
  },
  {
   "cell_type": "code",
   "execution_count": null,
   "id": "9a729228-64b7-45b9-99a8-fd0593a11a0e",
   "metadata": {
    "tags": []
   },
   "outputs": [],
   "source": [
    "sns.barplot(data=time_week,x='time',y='count')"
   ]
  },
  {
   "cell_type": "code",
   "execution_count": null,
   "id": "d9fa3d30-7fc7-428a-a310-7e4572dba6cb",
   "metadata": {
    "tags": []
   },
   "outputs": [],
   "source": [
    "time_hour= pd.DataFrame((df_video['time'].dt.hour).value_counts())\n",
    "\n",
    "time_hour= time_hour.sort_values('time')\n",
    "time_hour = time_hour.reset_index()\n",
    "time_hour"
   ]
  },
  {
   "cell_type": "code",
   "execution_count": null,
   "id": "d3008ec8-c368-40ff-bbd2-9bb8d11c06ef",
   "metadata": {
    "tags": []
   },
   "outputs": [],
   "source": [
    "sns.barplot(data=time_hour,x='time',y='count')"
   ]
  },
  {
   "cell_type": "markdown",
   "id": "413410ba-1088-4f1f-bc6e-88c674c05207",
   "metadata": {
    "jp-MarkdownHeadingCollapsed": true,
    "tags": []
   },
   "source": [
    "## Categorie analysis"
   ]
  },
  {
   "cell_type": "code",
   "execution_count": null,
   "id": "41b6628d-2558-4ff3-859e-01d46aa51076",
   "metadata": {
    "tags": []
   },
   "outputs": [],
   "source": [
    "plt.figure(figsize=(12,4))\n",
    "ax = sns.kdeplot(data=df_video, x='time',hue='Videocategory',shade=True,palette=\"Set2\")\n",
    "plt.xlim(df_video['time'].min(),df_video['time'].max())\n",
    "\n",
    "sns.move_legend(ax, \"lower center\", bbox_to_anchor=(.5, 1), ncol=3, title_fontsize=14)"
   ]
  },
  {
   "cell_type": "markdown",
   "id": "ecb6731d-8a9c-4bf6-9d26-1fe87e230109",
   "metadata": {
    "jp-MarkdownHeadingCollapsed": true,
    "tags": []
   },
   "source": [
    "## Videos statistique"
   ]
  },
  {
   "cell_type": "code",
   "execution_count": null,
   "id": "e3f21c9c-5c56-4677-aff7-f05a22faa78a",
   "metadata": {
    "tags": []
   },
   "outputs": [],
   "source": [
    "df_video.info()"
   ]
  },
  {
   "cell_type": "code",
   "execution_count": null,
   "id": "d46d4ccb-6cf2-4092-8f2e-9fe0d264d926",
   "metadata": {
    "tags": []
   },
   "outputs": [],
   "source": [
    "df_video[['Views','Like','Comments']].corr()"
   ]
  },
  {
   "cell_type": "code",
   "execution_count": null,
   "id": "2299ec8f-c976-4f61-85a6-993ce325634b",
   "metadata": {
    "tags": []
   },
   "outputs": [],
   "source": [
    "sns.scatterplot(data=df_video,x='Views',y='Like')\n"
   ]
  },
  {
   "cell_type": "code",
   "execution_count": null,
   "id": "583f4bf3-128b-4b75-93fa-e2412f6432ae",
   "metadata": {
    "tags": []
   },
   "outputs": [],
   "source": [
    "sns.scatterplot(data=df_video,x='Views',y='Comments')\n"
   ]
  },
  {
   "cell_type": "code",
   "execution_count": null,
   "id": "d8b064d9-b4b1-431a-9945-b6640cea3dab",
   "metadata": {
    "tags": []
   },
   "outputs": [],
   "source": [
    "sns.scatterplot(data=df_video,x='Like',y='Comments')"
   ]
  },
  {
   "cell_type": "markdown",
   "id": "6165af8f-0df6-42c6-bdf3-3575a1d936bc",
   "metadata": {
    "jp-MarkdownHeadingCollapsed": true,
    "tags": []
   },
   "source": [
    "# Channels stat"
   ]
  },
  {
   "cell_type": "code",
   "execution_count": null,
   "id": "8e01ac3a-8add-4484-bbea-81ea89e5adee",
   "metadata": {
    "tags": []
   },
   "outputs": [],
   "source": [
    "df_channel"
   ]
  },
  {
   "cell_type": "code",
   "execution_count": null,
   "id": "aca1056d-38e7-4bd4-b5f7-c28afddbf537",
   "metadata": {
    "tags": []
   },
   "outputs": [],
   "source": [
    "df_channel.sort_values('count',ascending=False)[['Channel_name','count']].iloc[0:5]"
   ]
  },
  {
   "cell_type": "code",
   "execution_count": null,
   "id": "419b0a2c-e405-4e91-a498-d4c43a136fa2",
   "metadata": {
    "tags": []
   },
   "outputs": [],
   "source": [
    "df_channel['per_viewvid'] = 100*(df_channel['count'] / df_channel['Total_videos'])\n",
    "df_channel['per_viewvid'].describe()"
   ]
  },
  {
   "cell_type": "code",
   "execution_count": null,
   "id": "95ef8071-e546-4473-8ff7-10083ff05720",
   "metadata": {
    "tags": []
   },
   "outputs": [],
   "source": [
    "df_channel.sort_values('per_viewvid',ascending=True).iloc[0:5]"
   ]
  },
  {
   "cell_type": "code",
   "execution_count": null,
   "id": "bce8c54f-e5a4-442d-969d-bafe8c49550c",
   "metadata": {
    "tags": []
   },
   "outputs": [],
   "source": [
    "df_channel['Channel_date'].dt.year.describe()\n"
   ]
  },
  {
   "cell_type": "code",
   "execution_count": null,
   "id": "bc8a04be-9680-45dc-8613-988df5855727",
   "metadata": {
    "tags": []
   },
   "outputs": [],
   "source": [
    "df_country = pd.DataFrame(df_channel['country'].value_counts())\n",
    "df_country = df_country.reset_index()"
   ]
  },
  {
   "cell_type": "code",
   "execution_count": null,
   "id": "1b009cf8-b8c5-42e3-aa96-b2b6633231ea",
   "metadata": {
    "tags": []
   },
   "outputs": [],
   "source": [
    "plt.pie(df_country['count'],labels=df_country['country'])\n",
    "plt.show()"
   ]
  },
  {
   "cell_type": "code",
   "execution_count": null,
   "id": "06cb3f15-dab0-43c1-8404-4cc21b980ee2",
   "metadata": {
    "tags": []
   },
   "outputs": [],
   "source": [
    "df_channel[['Subscribers','Views','Total_videos']].corr()"
   ]
  },
  {
   "cell_type": "code",
   "execution_count": null,
   "id": "22ca8ac3-6298-4368-914e-3a4d6039a1b7",
   "metadata": {
    "tags": []
   },
   "outputs": [],
   "source": [
    "sns.scatterplot(df_channel,x='Subscribers',y='Total_videos')"
   ]
  },
  {
   "cell_type": "code",
   "execution_count": null,
   "id": "1b1092ee-eab4-4052-a5e7-230694a9ac78",
   "metadata": {
    "tags": []
   },
   "outputs": [],
   "source": [
    "df_channel.sort_values('Subscribers',ascending=False).iloc[0]"
   ]
  },
  {
   "cell_type": "code",
   "execution_count": null,
   "id": "84e75084-f0a6-4db6-b64c-9f2f45840b8e",
   "metadata": {
    "tags": []
   },
   "outputs": [],
   "source": [
    "df_channel.sort_values('Total_videos',ascending=False).iloc[0]"
   ]
  }
 ],
 "metadata": {
  "celltoolbar": "Format de la Cellule Texte Brut",
  "kernelspec": {
   "display_name": "Python 3 (ipykernel)",
   "language": "python",
   "name": "python3"
  },
  "language_info": {
   "codemirror_mode": {
    "name": "ipython",
    "version": 3
   },
   "file_extension": ".py",
   "mimetype": "text/x-python",
   "name": "python",
   "nbconvert_exporter": "python",
   "pygments_lexer": "ipython3",
   "version": "3.11.7"
  }
 },
 "nbformat": 4,
 "nbformat_minor": 5
}
